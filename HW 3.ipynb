{
 "cells": [
  {
   "cell_type": "markdown",
   "id": "be3c8957",
   "metadata": {},
   "source": [
    "# HW 3\n",
    "\n",
    "Dennis Wang\n",
    "MA 707 - Machine Learning"
   ]
  },
  {
   "cell_type": "markdown",
   "id": "bf6af5bf",
   "metadata": {},
   "source": [
    "Load a data set, preprocess if needed, then (1) plot a dendrogram for one of the hierarchical clustering methods (you can choose which), (2) use MDS or PCA (you choose) to reduce the dimension (number of features/columns) of your data frame down to 2, then choose a value of k (the number of clusters) and perform k-means clustering on this 2-dimensional data set and scatterplot the result with colors indicating the clusters."
   ]
  },
  {
   "cell_type": "code",
   "execution_count": 1,
   "id": "1c22677a",
   "metadata": {},
   "outputs": [],
   "source": [
    "import pandas as pd\n",
    "import matplotlib.pyplot as plt\n",
    "import seaborn as sns"
   ]
  },
  {
   "cell_type": "markdown",
   "id": "8f77d762",
   "metadata": {},
   "source": [
    "### Loading and Preprocessing"
   ]
  },
  {
   "cell_type": "code",
   "execution_count": 2,
   "id": "4faaa8f3",
   "metadata": {},
   "outputs": [],
   "source": [
    "tips = sns.load_dataset('tips')"
   ]
  },
  {
   "cell_type": "code",
   "execution_count": 3,
   "id": "20acbdfe",
   "metadata": {},
   "outputs": [
    {
     "data": {
      "text/html": [
       "<div>\n",
       "<style scoped>\n",
       "    .dataframe tbody tr th:only-of-type {\n",
       "        vertical-align: middle;\n",
       "    }\n",
       "\n",
       "    .dataframe tbody tr th {\n",
       "        vertical-align: top;\n",
       "    }\n",
       "\n",
       "    .dataframe thead th {\n",
       "        text-align: right;\n",
       "    }\n",
       "</style>\n",
       "<table border=\"1\" class=\"dataframe\">\n",
       "  <thead>\n",
       "    <tr style=\"text-align: right;\">\n",
       "      <th></th>\n",
       "      <th>total_bill</th>\n",
       "      <th>tip</th>\n",
       "      <th>sex</th>\n",
       "      <th>smoker</th>\n",
       "      <th>day</th>\n",
       "      <th>time</th>\n",
       "      <th>size</th>\n",
       "    </tr>\n",
       "  </thead>\n",
       "  <tbody>\n",
       "    <tr>\n",
       "      <th>0</th>\n",
       "      <td>16.99</td>\n",
       "      <td>1.01</td>\n",
       "      <td>Female</td>\n",
       "      <td>No</td>\n",
       "      <td>Sun</td>\n",
       "      <td>Dinner</td>\n",
       "      <td>2</td>\n",
       "    </tr>\n",
       "    <tr>\n",
       "      <th>1</th>\n",
       "      <td>10.34</td>\n",
       "      <td>1.66</td>\n",
       "      <td>Male</td>\n",
       "      <td>No</td>\n",
       "      <td>Sun</td>\n",
       "      <td>Dinner</td>\n",
       "      <td>3</td>\n",
       "    </tr>\n",
       "    <tr>\n",
       "      <th>2</th>\n",
       "      <td>21.01</td>\n",
       "      <td>3.50</td>\n",
       "      <td>Male</td>\n",
       "      <td>No</td>\n",
       "      <td>Sun</td>\n",
       "      <td>Dinner</td>\n",
       "      <td>3</td>\n",
       "    </tr>\n",
       "    <tr>\n",
       "      <th>3</th>\n",
       "      <td>23.68</td>\n",
       "      <td>3.31</td>\n",
       "      <td>Male</td>\n",
       "      <td>No</td>\n",
       "      <td>Sun</td>\n",
       "      <td>Dinner</td>\n",
       "      <td>2</td>\n",
       "    </tr>\n",
       "    <tr>\n",
       "      <th>4</th>\n",
       "      <td>24.59</td>\n",
       "      <td>3.61</td>\n",
       "      <td>Female</td>\n",
       "      <td>No</td>\n",
       "      <td>Sun</td>\n",
       "      <td>Dinner</td>\n",
       "      <td>4</td>\n",
       "    </tr>\n",
       "  </tbody>\n",
       "</table>\n",
       "</div>"
      ],
      "text/plain": [
       "   total_bill   tip     sex smoker  day    time  size\n",
       "0       16.99  1.01  Female     No  Sun  Dinner     2\n",
       "1       10.34  1.66    Male     No  Sun  Dinner     3\n",
       "2       21.01  3.50    Male     No  Sun  Dinner     3\n",
       "3       23.68  3.31    Male     No  Sun  Dinner     2\n",
       "4       24.59  3.61  Female     No  Sun  Dinner     4"
      ]
     },
     "execution_count": 3,
     "metadata": {},
     "output_type": "execute_result"
    }
   ],
   "source": [
    "tips.head()"
   ]
  },
  {
   "cell_type": "markdown",
   "id": "64865bb0",
   "metadata": {},
   "source": [
    "#### Vectorizing categorical variables"
   ]
  },
  {
   "cell_type": "code",
   "execution_count": 4,
   "id": "e1de8cf4",
   "metadata": {},
   "outputs": [],
   "source": [
    "tips = pd.get_dummies(tips, columns = ['sex', 'smoker', 'day', 'time'], drop_first = True)"
   ]
  },
  {
   "cell_type": "code",
   "execution_count": 5,
   "id": "490ed99b",
   "metadata": {
    "scrolled": false
   },
   "outputs": [
    {
     "data": {
      "text/html": [
       "<div>\n",
       "<style scoped>\n",
       "    .dataframe tbody tr th:only-of-type {\n",
       "        vertical-align: middle;\n",
       "    }\n",
       "\n",
       "    .dataframe tbody tr th {\n",
       "        vertical-align: top;\n",
       "    }\n",
       "\n",
       "    .dataframe thead th {\n",
       "        text-align: right;\n",
       "    }\n",
       "</style>\n",
       "<table border=\"1\" class=\"dataframe\">\n",
       "  <thead>\n",
       "    <tr style=\"text-align: right;\">\n",
       "      <th></th>\n",
       "      <th>total_bill</th>\n",
       "      <th>tip</th>\n",
       "      <th>size</th>\n",
       "      <th>sex_Female</th>\n",
       "      <th>smoker_No</th>\n",
       "      <th>day_Fri</th>\n",
       "      <th>day_Sat</th>\n",
       "      <th>day_Sun</th>\n",
       "      <th>time_Dinner</th>\n",
       "    </tr>\n",
       "  </thead>\n",
       "  <tbody>\n",
       "    <tr>\n",
       "      <th>0</th>\n",
       "      <td>16.99</td>\n",
       "      <td>1.01</td>\n",
       "      <td>2</td>\n",
       "      <td>1</td>\n",
       "      <td>1</td>\n",
       "      <td>0</td>\n",
       "      <td>0</td>\n",
       "      <td>1</td>\n",
       "      <td>1</td>\n",
       "    </tr>\n",
       "    <tr>\n",
       "      <th>1</th>\n",
       "      <td>10.34</td>\n",
       "      <td>1.66</td>\n",
       "      <td>3</td>\n",
       "      <td>0</td>\n",
       "      <td>1</td>\n",
       "      <td>0</td>\n",
       "      <td>0</td>\n",
       "      <td>1</td>\n",
       "      <td>1</td>\n",
       "    </tr>\n",
       "    <tr>\n",
       "      <th>2</th>\n",
       "      <td>21.01</td>\n",
       "      <td>3.50</td>\n",
       "      <td>3</td>\n",
       "      <td>0</td>\n",
       "      <td>1</td>\n",
       "      <td>0</td>\n",
       "      <td>0</td>\n",
       "      <td>1</td>\n",
       "      <td>1</td>\n",
       "    </tr>\n",
       "    <tr>\n",
       "      <th>3</th>\n",
       "      <td>23.68</td>\n",
       "      <td>3.31</td>\n",
       "      <td>2</td>\n",
       "      <td>0</td>\n",
       "      <td>1</td>\n",
       "      <td>0</td>\n",
       "      <td>0</td>\n",
       "      <td>1</td>\n",
       "      <td>1</td>\n",
       "    </tr>\n",
       "    <tr>\n",
       "      <th>4</th>\n",
       "      <td>24.59</td>\n",
       "      <td>3.61</td>\n",
       "      <td>4</td>\n",
       "      <td>1</td>\n",
       "      <td>1</td>\n",
       "      <td>0</td>\n",
       "      <td>0</td>\n",
       "      <td>1</td>\n",
       "      <td>1</td>\n",
       "    </tr>\n",
       "  </tbody>\n",
       "</table>\n",
       "</div>"
      ],
      "text/plain": [
       "   total_bill   tip  size  sex_Female  smoker_No  day_Fri  day_Sat  day_Sun  \\\n",
       "0       16.99  1.01     2           1          1        0        0        1   \n",
       "1       10.34  1.66     3           0          1        0        0        1   \n",
       "2       21.01  3.50     3           0          1        0        0        1   \n",
       "3       23.68  3.31     2           0          1        0        0        1   \n",
       "4       24.59  3.61     4           1          1        0        0        1   \n",
       "\n",
       "   time_Dinner  \n",
       "0            1  \n",
       "1            1  \n",
       "2            1  \n",
       "3            1  \n",
       "4            1  "
      ]
     },
     "execution_count": 5,
     "metadata": {},
     "output_type": "execute_result"
    }
   ],
   "source": [
    "tips.head()"
   ]
  },
  {
   "cell_type": "markdown",
   "id": "9f41a05d",
   "metadata": {},
   "source": [
    "#### Normalizing values"
   ]
  },
  {
   "cell_type": "code",
   "execution_count": 6,
   "id": "1a9058e7",
   "metadata": {},
   "outputs": [],
   "source": [
    "from sklearn.preprocessing import Normalizer"
   ]
  },
  {
   "cell_type": "code",
   "execution_count": 7,
   "id": "8baf5b0a",
   "metadata": {},
   "outputs": [
    {
     "data": {
      "text/html": [
       "<div>\n",
       "<style scoped>\n",
       "    .dataframe tbody tr th:only-of-type {\n",
       "        vertical-align: middle;\n",
       "    }\n",
       "\n",
       "    .dataframe tbody tr th {\n",
       "        vertical-align: top;\n",
       "    }\n",
       "\n",
       "    .dataframe thead th {\n",
       "        text-align: right;\n",
       "    }\n",
       "</style>\n",
       "<table border=\"1\" class=\"dataframe\">\n",
       "  <thead>\n",
       "    <tr style=\"text-align: right;\">\n",
       "      <th></th>\n",
       "      <th>total_bill</th>\n",
       "      <th>tip</th>\n",
       "      <th>size</th>\n",
       "      <th>sex_Female</th>\n",
       "      <th>smoker_No</th>\n",
       "      <th>day_Fri</th>\n",
       "      <th>day_Sat</th>\n",
       "      <th>day_Sun</th>\n",
       "      <th>time_Dinner</th>\n",
       "    </tr>\n",
       "  </thead>\n",
       "  <tbody>\n",
       "    <tr>\n",
       "      <th>0</th>\n",
       "      <td>0.984733</td>\n",
       "      <td>0.058539</td>\n",
       "      <td>0.115919</td>\n",
       "      <td>0.05796</td>\n",
       "      <td>0.057960</td>\n",
       "      <td>0.0</td>\n",
       "      <td>0.0</td>\n",
       "      <td>0.057960</td>\n",
       "      <td>0.057960</td>\n",
       "    </tr>\n",
       "    <tr>\n",
       "      <th>1</th>\n",
       "      <td>0.937404</td>\n",
       "      <td>0.150492</td>\n",
       "      <td>0.271974</td>\n",
       "      <td>0.00000</td>\n",
       "      <td>0.090658</td>\n",
       "      <td>0.0</td>\n",
       "      <td>0.0</td>\n",
       "      <td>0.090658</td>\n",
       "      <td>0.090658</td>\n",
       "    </tr>\n",
       "    <tr>\n",
       "      <th>2</th>\n",
       "      <td>0.973614</td>\n",
       "      <td>0.162192</td>\n",
       "      <td>0.139022</td>\n",
       "      <td>0.00000</td>\n",
       "      <td>0.046341</td>\n",
       "      <td>0.0</td>\n",
       "      <td>0.0</td>\n",
       "      <td>0.046341</td>\n",
       "      <td>0.046341</td>\n",
       "    </tr>\n",
       "    <tr>\n",
       "      <th>3</th>\n",
       "      <td>0.984364</td>\n",
       "      <td>0.137595</td>\n",
       "      <td>0.083139</td>\n",
       "      <td>0.00000</td>\n",
       "      <td>0.041569</td>\n",
       "      <td>0.0</td>\n",
       "      <td>0.0</td>\n",
       "      <td>0.041569</td>\n",
       "      <td>0.041569</td>\n",
       "    </tr>\n",
       "    <tr>\n",
       "      <th>4</th>\n",
       "      <td>0.973756</td>\n",
       "      <td>0.142955</td>\n",
       "      <td>0.158399</td>\n",
       "      <td>0.03960</td>\n",
       "      <td>0.039600</td>\n",
       "      <td>0.0</td>\n",
       "      <td>0.0</td>\n",
       "      <td>0.039600</td>\n",
       "      <td>0.039600</td>\n",
       "    </tr>\n",
       "  </tbody>\n",
       "</table>\n",
       "</div>"
      ],
      "text/plain": [
       "   total_bill       tip      size  sex_Female  smoker_No  day_Fri  day_Sat  \\\n",
       "0    0.984733  0.058539  0.115919     0.05796   0.057960      0.0      0.0   \n",
       "1    0.937404  0.150492  0.271974     0.00000   0.090658      0.0      0.0   \n",
       "2    0.973614  0.162192  0.139022     0.00000   0.046341      0.0      0.0   \n",
       "3    0.984364  0.137595  0.083139     0.00000   0.041569      0.0      0.0   \n",
       "4    0.973756  0.142955  0.158399     0.03960   0.039600      0.0      0.0   \n",
       "\n",
       "    day_Sun  time_Dinner  \n",
       "0  0.057960     0.057960  \n",
       "1  0.090658     0.090658  \n",
       "2  0.046341     0.046341  \n",
       "3  0.041569     0.041569  \n",
       "4  0.039600     0.039600  "
      ]
     },
     "execution_count": 7,
     "metadata": {},
     "output_type": "execute_result"
    }
   ],
   "source": [
    "normalizer = Normalizer()\n",
    "normalizer.fit(tips) \n",
    "norm_values = normalizer.transform(tips)\n",
    "\n",
    "tips_norm = pd.DataFrame(norm_values, columns = tips.columns)\n",
    "tips_norm.head()"
   ]
  },
  {
   "cell_type": "markdown",
   "id": "b49c30a1",
   "metadata": {},
   "source": [
    "### Plotting a Dendrogram using Agglomerative Hierarchical Clustering Method"
   ]
  },
  {
   "cell_type": "code",
   "execution_count": 8,
   "id": "bde5fc34",
   "metadata": {},
   "outputs": [],
   "source": [
    "from scipy.cluster.hierarchy import dendrogram, linkage, fcluster"
   ]
  },
  {
   "cell_type": "code",
   "execution_count": 9,
   "id": "cd58d9fc",
   "metadata": {
    "scrolled": false
   },
   "outputs": [
    {
     "data": {
      "image/png": "[encoded data removed]",
      "text/plain": [
       "<Figure size 864x576 with 1 Axes>"
      ]
     },
     "metadata": {
      "needs_background": "light"
     },
     "output_type": "display_data"
    }
   ],
   "source": [
    "Z = linkage(tips_norm, method = 'average')\n",
    "plt.figure(figsize = (12,8))\n",
    "dendrogram(Z, labels = tips_norm.index, color_threshold=2.75)\n",
    "plt.show()"
   ]
  },
  {
   "cell_type": "markdown",
   "id": "a161c3df",
   "metadata": {},
   "source": [
    "### Using PCA to reduce dimensions of dataframe to 2"
   ]
  },
  {
   "cell_type": "code",
   "execution_count": 10,
   "id": "69cef86b",
   "metadata": {},
   "outputs": [],
   "source": [
    "from sklearn.decomposition import PCA"
   ]
  },
  {
   "cell_type": "code",
   "execution_count": 11,
   "id": "ed5719a0",
   "metadata": {},
   "outputs": [
    {
     "name": "stdout",
     "output_type": "stream",
     "text": [
      "Original shape: (244, 9)\n",
      "Reduced shape: (244, 2)\n"
     ]
    }
   ],
   "source": [
    "# keep the first 2 principal components of the data\n",
    "pca = PCA(n_components = 2)\n",
    "# fit PCA model to data\n",
    "pca.fit(tips_norm)\n",
    "# transform data onto the first two principal components\n",
    "tips_pca = pca.transform(tips_norm)\n",
    "print(\"Original shape: {}\".format(str(tips_norm.shape)))\n",
    "print(\"Reduced shape: {}\".format(str(tips_pca.shape)))"
   ]
  },
  {
   "cell_type": "markdown",
   "id": "8315501c",
   "metadata": {},
   "source": [
    "### Choose a value of k (the number of clusters) and perform k-means clustering on this 2-dimensional data set and scatterplot the result with colors indicating the clusters"
   ]
  },
  {
   "cell_type": "code",
   "execution_count": 12,
   "id": "3f8bba9b",
   "metadata": {},
   "outputs": [],
   "source": [
    "from sklearn.cluster import SpectralClustering"
   ]
  },
  {
   "cell_type": "code",
   "execution_count": 13,
   "id": "4f7df69c",
   "metadata": {},
   "outputs": [],
   "source": [
    "model = SpectralClustering(n_clusters = 2, affinity = 'nearest_neighbors', assign_labels = 'kmeans')"
   ]
  },
  {
   "cell_type": "code",
   "execution_count": 14,
   "id": "0422724d",
   "metadata": {},
   "outputs": [
    {
     "data": {
      "text/plain": [
       "<matplotlib.collections.PathCollection at 0x2978863bfa0>"
      ]
     },
     "execution_count": 14,
     "metadata": {},
     "output_type": "execute_result"
    },
    {
     "data": {
      "image/png": "[encoded data removed]",
      "text/plain": [
       "<Figure size 432x288 with 1 Axes>"
      ]
     },
     "metadata": {
      "needs_background": "light"
     },
     "output_type": "display_data"
    }
   ],
   "source": [
    "labels = model.fit_predict(tips_pca)\n",
    "plt.scatter(tips_pca[:,0], tips_pca[:,1], c = labels, s = 50, cmap='viridis')"
   ]
  },
  {
   "cell_type": "markdown",
   "id": "75ddcaf5",
   "metadata": {},
   "source": [
    "## Conceptual\n",
    "\n",
    "Briefly (2-3 sentences) describe\n",
    "\n",
    ">1. agglomerative hierarchical clustering\n",
    "\n",
    "Agglomerative hierarchical clustering is where we begin with a separate cluster for each data point and slowly merge each pair of similar clusters into one cluster, and this process continues until we're left with one single big cluster. This whole process can be represented in a tree-based diagram called a dendrogram. To see which clusters should be combined, we use some notion of distance to compute their similarity. The most common distatance metrics are minimum, maximum, average, and centroid.\n",
    "\n",
    ">2. the k-means clustering algorithm\n",
    "\n",
    "K-means clustering is a non-hierarchical clustering algorithm, meaning that the user initially specifies the number of clusters (k) ad the algorithm finds of way of splitting the data into that many clusters. Initially, the data points are randomly distributed into these k clusters. At each step, we compute the centroid of each cluster and then reassign each data point to be in the cluster corresponding to the centroid it's closest to. We thenn recompute the new cenntroids of the clusters and repeat until the \"improvement\", measured by the sum of distances of points in each cluster from the cluster centroid, is negligible. \n",
    "\n",
    ">3. multidimensional scaling\n",
    "\n",
    "We're comfortable with the idea of representing a data point as the values of its predictors, or a vector (like coordinates). However, sometimes you have data that you can't put coordinates on, such as defining a relationship as the classes shared between students, but you can still describe some notion of distance, for example the reciprocal of the number of classes shared between a pair of students. MDS takes this notion of distance, and given a dimension d, turrns it into an Euclidean distance.\n",
    "\n",
    ">4. why non-linear dimension reduction methods are sometimes helpful\n",
    "\n",
    "Sometimes our data naturally forms a lower-dimensional shape but is embedded in a higher-dimensional space. Our dimension reduction methods would work well if the embedding was done linear, but if the embedding is non-linear, then usually MDS and PCA would not work well. If we try to use these linear dimension reduction methods on this kind of data, then it might likely distort the \"image\" of the data."
   ]
  },
  {
   "cell_type": "code",
   "execution_count": null,
   "id": "7aa58bac",
   "metadata": {},
   "outputs": [],
   "source": []
  }
 ],
 "metadata": {
  "kernelspec": {
   "display_name": "Python 3",
   "language": "python",
   "name": "python3"
  },
  "language_info": {
   "codemirror_mode": {
    "name": "ipython",
    "version": 3
   },
   "file_extension": ".py",
   "mimetype": "text/x-python",
   "name": "python",
   "nbconvert_exporter": "python",
   "pygments_lexer": "ipython3",
   "version": "3.8.8"
  }
 },
 "nbformat": 4,
 "nbformat_minor": 5
}
