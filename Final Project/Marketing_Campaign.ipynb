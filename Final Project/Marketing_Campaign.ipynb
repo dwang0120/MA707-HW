{
 "cells": [
  {
   "cell_type": "code",
   "execution_count": 1,
   "id": "2d9a5b5a",
   "metadata": {},
   "outputs": [],
   "source": [
    "import pandas as pd\n",
    "import numpy as np\n",
    "import matplotlib.pyplot as plt\n",
    "import seaborn as sns"
   ]
  },
  {
   "cell_type": "code",
   "execution_count": 2,
   "id": "3e720803",
   "metadata": {},
   "outputs": [],
   "source": [
    "marketing = pd.read_csv('marketing_campaign.csv', sep = '\\t')"
   ]
  },
  {
   "cell_type": "code",
   "execution_count": 3,
   "id": "0dcc4afd",
   "metadata": {},
   "outputs": [
    {
     "name": "stdout",
     "output_type": "stream",
     "text": [
      "<class 'pandas.core.frame.DataFrame'>\n",
      "RangeIndex: 2240 entries, 0 to 2239\n",
      "Data columns (total 29 columns):\n",
      " #   Column               Non-Null Count  Dtype  \n",
      "---  ------               --------------  -----  \n",
      " 0   ID                   2240 non-null   int64  \n",
      " 1   Year_Birth           2240 non-null   int64  \n",
      " 2   Education            2240 non-null   object \n",
      " 3   Marital_Status       2240 non-null   object \n",
      " 4   Income               2216 non-null   float64\n",
      " 5   Kidhome              2240 non-null   int64  \n",
      " 6   Teenhome             2240 non-null   int64  \n",
      " 7   Dt_Customer          2240 non-null   object \n",
      " 8   Recency              2240 non-null   int64  \n",
      " 9   MntWines             2240 non-null   int64  \n",
      " 10  MntFruits            2240 non-null   int64  \n",
      " 11  MntMeatProducts      2240 non-null   int64  \n",
      " 12  MntFishProducts      2240 non-null   int64  \n",
      " 13  MntSweetProducts     2240 non-null   int64  \n",
      " 14  MntGoldProds         2240 non-null   int64  \n",
      " 15  NumDealsPurchases    2240 non-null   int64  \n",
      " 16  NumWebPurchases      2240 non-null   int64  \n",
      " 17  NumCatalogPurchases  2240 non-null   int64  \n",
      " 18  NumStorePurchases    2240 non-null   int64  \n",
      " 19  NumWebVisitsMonth    2240 non-null   int64  \n",
      " 20  AcceptedCmp3         2240 non-null   int64  \n",
      " 21  AcceptedCmp4         2240 non-null   int64  \n",
      " 22  AcceptedCmp5         2240 non-null   int64  \n",
      " 23  AcceptedCmp1         2240 non-null   int64  \n",
      " 24  AcceptedCmp2         2240 non-null   int64  \n",
      " 25  Complain             2240 non-null   int64  \n",
      " 26  Z_CostContact        2240 non-null   int64  \n",
      " 27  Z_Revenue            2240 non-null   int64  \n",
      " 28  Response             2240 non-null   int64  \n",
      "dtypes: float64(1), int64(25), object(3)\n",
      "memory usage: 507.6+ KB\n"
     ]
    }
   ],
   "source": [
    "marketing.info()"
   ]
  },
  {
   "cell_type": "code",
   "execution_count": 4,
   "id": "c3a899f2",
   "metadata": {},
   "outputs": [
    {
     "data": {
      "text/html": [
       "<div>\n",
       "<style scoped>\n",
       "    .dataframe tbody tr th:only-of-type {\n",
       "        vertical-align: middle;\n",
       "    }\n",
       "\n",
       "    .dataframe tbody tr th {\n",
       "        vertical-align: top;\n",
       "    }\n",
       "\n",
       "    .dataframe thead th {\n",
       "        text-align: right;\n",
       "    }\n",
       "</style>\n",
       "<table border=\"1\" class=\"dataframe\">\n",
       "  <thead>\n",
       "    <tr style=\"text-align: right;\">\n",
       "      <th></th>\n",
       "      <th>ID</th>\n",
       "      <th>Year_Birth</th>\n",
       "      <th>Education</th>\n",
       "      <th>Marital_Status</th>\n",
       "      <th>Income</th>\n",
       "      <th>Kidhome</th>\n",
       "      <th>Teenhome</th>\n",
       "      <th>Dt_Customer</th>\n",
       "      <th>Recency</th>\n",
       "      <th>MntWines</th>\n",
       "      <th>MntFruits</th>\n",
       "      <th>MntMeatProducts</th>\n",
       "      <th>MntFishProducts</th>\n",
       "      <th>MntSweetProducts</th>\n",
       "      <th>MntGoldProds</th>\n",
       "      <th>NumDealsPurchases</th>\n",
       "      <th>NumWebPurchases</th>\n",
       "      <th>NumCatalogPurchases</th>\n",
       "      <th>NumStorePurchases</th>\n",
       "      <th>NumWebVisitsMonth</th>\n",
       "      <th>AcceptedCmp3</th>\n",
       "      <th>AcceptedCmp4</th>\n",
       "      <th>AcceptedCmp5</th>\n",
       "      <th>AcceptedCmp1</th>\n",
       "      <th>AcceptedCmp2</th>\n",
       "      <th>Complain</th>\n",
       "      <th>Z_CostContact</th>\n",
       "      <th>Z_Revenue</th>\n",
       "      <th>Response</th>\n",
       "    </tr>\n",
       "  </thead>\n",
       "  <tbody>\n",
       "    <tr>\n",
       "      <th>0</th>\n",
       "      <td>5524</td>\n",
       "      <td>1957</td>\n",
       "      <td>Graduation</td>\n",
       "      <td>Single</td>\n",
       "      <td>58138.0</td>\n",
       "      <td>0</td>\n",
       "      <td>0</td>\n",
       "      <td>04-09-2012</td>\n",
       "      <td>58</td>\n",
       "      <td>635</td>\n",
       "      <td>88</td>\n",
       "      <td>546</td>\n",
       "      <td>172</td>\n",
       "      <td>88</td>\n",
       "      <td>88</td>\n",
       "      <td>3</td>\n",
       "      <td>8</td>\n",
       "      <td>10</td>\n",
       "      <td>4</td>\n",
       "      <td>7</td>\n",
       "      <td>0</td>\n",
       "      <td>0</td>\n",
       "      <td>0</td>\n",
       "      <td>0</td>\n",
       "      <td>0</td>\n",
       "      <td>0</td>\n",
       "      <td>3</td>\n",
       "      <td>11</td>\n",
       "      <td>1</td>\n",
       "    </tr>\n",
       "    <tr>\n",
       "      <th>1</th>\n",
       "      <td>2174</td>\n",
       "      <td>1954</td>\n",
       "      <td>Graduation</td>\n",
       "      <td>Single</td>\n",
       "      <td>46344.0</td>\n",
       "      <td>1</td>\n",
       "      <td>1</td>\n",
       "      <td>08-03-2014</td>\n",
       "      <td>38</td>\n",
       "      <td>11</td>\n",
       "      <td>1</td>\n",
       "      <td>6</td>\n",
       "      <td>2</td>\n",
       "      <td>1</td>\n",
       "      <td>6</td>\n",
       "      <td>2</td>\n",
       "      <td>1</td>\n",
       "      <td>1</td>\n",
       "      <td>2</td>\n",
       "      <td>5</td>\n",
       "      <td>0</td>\n",
       "      <td>0</td>\n",
       "      <td>0</td>\n",
       "      <td>0</td>\n",
       "      <td>0</td>\n",
       "      <td>0</td>\n",
       "      <td>3</td>\n",
       "      <td>11</td>\n",
       "      <td>0</td>\n",
       "    </tr>\n",
       "    <tr>\n",
       "      <th>2</th>\n",
       "      <td>4141</td>\n",
       "      <td>1965</td>\n",
       "      <td>Graduation</td>\n",
       "      <td>Together</td>\n",
       "      <td>71613.0</td>\n",
       "      <td>0</td>\n",
       "      <td>0</td>\n",
       "      <td>21-08-2013</td>\n",
       "      <td>26</td>\n",
       "      <td>426</td>\n",
       "      <td>49</td>\n",
       "      <td>127</td>\n",
       "      <td>111</td>\n",
       "      <td>21</td>\n",
       "      <td>42</td>\n",
       "      <td>1</td>\n",
       "      <td>8</td>\n",
       "      <td>2</td>\n",
       "      <td>10</td>\n",
       "      <td>4</td>\n",
       "      <td>0</td>\n",
       "      <td>0</td>\n",
       "      <td>0</td>\n",
       "      <td>0</td>\n",
       "      <td>0</td>\n",
       "      <td>0</td>\n",
       "      <td>3</td>\n",
       "      <td>11</td>\n",
       "      <td>0</td>\n",
       "    </tr>\n",
       "    <tr>\n",
       "      <th>3</th>\n",
       "      <td>6182</td>\n",
       "      <td>1984</td>\n",
       "      <td>Graduation</td>\n",
       "      <td>Together</td>\n",
       "      <td>26646.0</td>\n",
       "      <td>1</td>\n",
       "      <td>0</td>\n",
       "      <td>10-02-2014</td>\n",
       "      <td>26</td>\n",
       "      <td>11</td>\n",
       "      <td>4</td>\n",
       "      <td>20</td>\n",
       "      <td>10</td>\n",
       "      <td>3</td>\n",
       "      <td>5</td>\n",
       "      <td>2</td>\n",
       "      <td>2</td>\n",
       "      <td>0</td>\n",
       "      <td>4</td>\n",
       "      <td>6</td>\n",
       "      <td>0</td>\n",
       "      <td>0</td>\n",
       "      <td>0</td>\n",
       "      <td>0</td>\n",
       "      <td>0</td>\n",
       "      <td>0</td>\n",
       "      <td>3</td>\n",
       "      <td>11</td>\n",
       "      <td>0</td>\n",
       "    </tr>\n",
       "    <tr>\n",
       "      <th>4</th>\n",
       "      <td>5324</td>\n",
       "      <td>1981</td>\n",
       "      <td>PhD</td>\n",
       "      <td>Married</td>\n",
       "      <td>58293.0</td>\n",
       "      <td>1</td>\n",
       "      <td>0</td>\n",
       "      <td>19-01-2014</td>\n",
       "      <td>94</td>\n",
       "      <td>173</td>\n",
       "      <td>43</td>\n",
       "      <td>118</td>\n",
       "      <td>46</td>\n",
       "      <td>27</td>\n",
       "      <td>15</td>\n",
       "      <td>5</td>\n",
       "      <td>5</td>\n",
       "      <td>3</td>\n",
       "      <td>6</td>\n",
       "      <td>5</td>\n",
       "      <td>0</td>\n",
       "      <td>0</td>\n",
       "      <td>0</td>\n",
       "      <td>0</td>\n",
       "      <td>0</td>\n",
       "      <td>0</td>\n",
       "      <td>3</td>\n",
       "      <td>11</td>\n",
       "      <td>0</td>\n",
       "    </tr>\n",
       "  </tbody>\n",
       "</table>\n",
       "</div>"
      ],
      "text/plain": [
       "     ID  Year_Birth   Education Marital_Status   Income  Kidhome  Teenhome  \\\n",
       "0  5524        1957  Graduation         Single  58138.0        0         0   \n",
       "1  2174        1954  Graduation         Single  46344.0        1         1   \n",
       "2  4141        1965  Graduation       Together  71613.0        0         0   \n",
       "3  6182        1984  Graduation       Together  26646.0        1         0   \n",
       "4  5324        1981         PhD        Married  58293.0        1         0   \n",
       "\n",
       "  Dt_Customer  Recency  MntWines  MntFruits  MntMeatProducts  MntFishProducts  \\\n",
       "0  04-09-2012       58       635         88              546              172   \n",
       "1  08-03-2014       38        11          1                6                2   \n",
       "2  21-08-2013       26       426         49              127              111   \n",
       "3  10-02-2014       26        11          4               20               10   \n",
       "4  19-01-2014       94       173         43              118               46   \n",
       "\n",
       "   MntSweetProducts  MntGoldProds  NumDealsPurchases  NumWebPurchases  \\\n",
       "0                88            88                  3                8   \n",
       "1                 1             6                  2                1   \n",
       "2                21            42                  1                8   \n",
       "3                 3             5                  2                2   \n",
       "4                27            15                  5                5   \n",
       "\n",
       "   NumCatalogPurchases  NumStorePurchases  NumWebVisitsMonth  AcceptedCmp3  \\\n",
       "0                   10                  4                  7             0   \n",
       "1                    1                  2                  5             0   \n",
       "2                    2                 10                  4             0   \n",
       "3                    0                  4                  6             0   \n",
       "4                    3                  6                  5             0   \n",
       "\n",
       "   AcceptedCmp4  AcceptedCmp5  AcceptedCmp1  AcceptedCmp2  Complain  \\\n",
       "0             0             0             0             0         0   \n",
       "1             0             0             0             0         0   \n",
       "2             0             0             0             0         0   \n",
       "3             0             0             0             0         0   \n",
       "4             0             0             0             0         0   \n",
       "\n",
       "   Z_CostContact  Z_Revenue  Response  \n",
       "0              3         11         1  \n",
       "1              3         11         0  \n",
       "2              3         11         0  \n",
       "3              3         11         0  \n",
       "4              3         11         0  "
      ]
     },
     "execution_count": 4,
     "metadata": {},
     "output_type": "execute_result"
    }
   ],
   "source": [
    "pd.set_option('display.max_columns', None)\n",
    "marketing.head()"
   ]
  },
  {
   "cell_type": "markdown",
   "id": "3f8a0a2b",
   "metadata": {},
   "source": [
    "# Exploratory Data Analysis"
   ]
  },
  {
   "cell_type": "markdown",
   "id": "c89ac730",
   "metadata": {},
   "source": [
    "## Missing values"
   ]
  },
  {
   "cell_type": "code",
   "execution_count": 5,
   "id": "ec4e03f3",
   "metadata": {},
   "outputs": [
    {
     "data": {
      "text/plain": [
       "ID                     False\n",
       "Year_Birth             False\n",
       "Education              False\n",
       "Marital_Status         False\n",
       "Income                  True\n",
       "Kidhome                False\n",
       "Teenhome               False\n",
       "Dt_Customer            False\n",
       "Recency                False\n",
       "MntWines               False\n",
       "MntFruits              False\n",
       "MntMeatProducts        False\n",
       "MntFishProducts        False\n",
       "MntSweetProducts       False\n",
       "MntGoldProds           False\n",
       "NumDealsPurchases      False\n",
       "NumWebPurchases        False\n",
       "NumCatalogPurchases    False\n",
       "NumStorePurchases      False\n",
       "NumWebVisitsMonth      False\n",
       "AcceptedCmp3           False\n",
       "AcceptedCmp4           False\n",
       "AcceptedCmp5           False\n",
       "AcceptedCmp1           False\n",
       "AcceptedCmp2           False\n",
       "Complain               False\n",
       "Z_CostContact          False\n",
       "Z_Revenue              False\n",
       "Response               False\n",
       "dtype: bool"
      ]
     },
     "execution_count": 5,
     "metadata": {},
     "output_type": "execute_result"
    }
   ],
   "source": [
    "marketing.isnull().any()"
   ]
  },
  {
   "cell_type": "code",
   "execution_count": 6,
   "id": "d5c39f3a",
   "metadata": {},
   "outputs": [
    {
     "data": {
      "text/html": [
       "<div>\n",
       "<style scoped>\n",
       "    .dataframe tbody tr th:only-of-type {\n",
       "        vertical-align: middle;\n",
       "    }\n",
       "\n",
       "    .dataframe tbody tr th {\n",
       "        vertical-align: top;\n",
       "    }\n",
       "\n",
       "    .dataframe thead th {\n",
       "        text-align: right;\n",
       "    }\n",
       "</style>\n",
       "<table border=\"1\" class=\"dataframe\">\n",
       "  <thead>\n",
       "    <tr style=\"text-align: right;\">\n",
       "      <th></th>\n",
       "      <th>ID</th>\n",
       "      <th>Year_Birth</th>\n",
       "      <th>Education</th>\n",
       "      <th>Marital_Status</th>\n",
       "      <th>Income</th>\n",
       "      <th>Kidhome</th>\n",
       "      <th>Teenhome</th>\n",
       "      <th>Dt_Customer</th>\n",
       "      <th>Recency</th>\n",
       "      <th>MntWines</th>\n",
       "      <th>MntFruits</th>\n",
       "      <th>MntMeatProducts</th>\n",
       "      <th>MntFishProducts</th>\n",
       "      <th>MntSweetProducts</th>\n",
       "      <th>MntGoldProds</th>\n",
       "      <th>NumDealsPurchases</th>\n",
       "      <th>NumWebPurchases</th>\n",
       "      <th>NumCatalogPurchases</th>\n",
       "      <th>NumStorePurchases</th>\n",
       "      <th>NumWebVisitsMonth</th>\n",
       "      <th>AcceptedCmp3</th>\n",
       "      <th>AcceptedCmp4</th>\n",
       "      <th>AcceptedCmp5</th>\n",
       "      <th>AcceptedCmp1</th>\n",
       "      <th>AcceptedCmp2</th>\n",
       "      <th>Complain</th>\n",
       "      <th>Z_CostContact</th>\n",
       "      <th>Z_Revenue</th>\n",
       "      <th>Response</th>\n",
       "    </tr>\n",
       "  </thead>\n",
       "  <tbody>\n",
       "    <tr>\n",
       "      <th>10</th>\n",
       "      <td>1994</td>\n",
       "      <td>1983</td>\n",
       "      <td>Graduation</td>\n",
       "      <td>Married</td>\n",
       "      <td>NaN</td>\n",
       "      <td>1</td>\n",
       "      <td>0</td>\n",
       "      <td>15-11-2013</td>\n",
       "      <td>11</td>\n",
       "      <td>5</td>\n",
       "      <td>5</td>\n",
       "      <td>6</td>\n",
       "      <td>0</td>\n",
       "      <td>2</td>\n",
       "      <td>1</td>\n",
       "      <td>1</td>\n",
       "      <td>1</td>\n",
       "      <td>0</td>\n",
       "      <td>2</td>\n",
       "      <td>7</td>\n",
       "      <td>0</td>\n",
       "      <td>0</td>\n",
       "      <td>0</td>\n",
       "      <td>0</td>\n",
       "      <td>0</td>\n",
       "      <td>0</td>\n",
       "      <td>3</td>\n",
       "      <td>11</td>\n",
       "      <td>0</td>\n",
       "    </tr>\n",
       "    <tr>\n",
       "      <th>27</th>\n",
       "      <td>5255</td>\n",
       "      <td>1986</td>\n",
       "      <td>Graduation</td>\n",
       "      <td>Single</td>\n",
       "      <td>NaN</td>\n",
       "      <td>1</td>\n",
       "      <td>0</td>\n",
       "      <td>20-02-2013</td>\n",
       "      <td>19</td>\n",
       "      <td>5</td>\n",
       "      <td>1</td>\n",
       "      <td>3</td>\n",
       "      <td>3</td>\n",
       "      <td>263</td>\n",
       "      <td>362</td>\n",
       "      <td>0</td>\n",
       "      <td>27</td>\n",
       "      <td>0</td>\n",
       "      <td>0</td>\n",
       "      <td>1</td>\n",
       "      <td>0</td>\n",
       "      <td>0</td>\n",
       "      <td>0</td>\n",
       "      <td>0</td>\n",
       "      <td>0</td>\n",
       "      <td>0</td>\n",
       "      <td>3</td>\n",
       "      <td>11</td>\n",
       "      <td>0</td>\n",
       "    </tr>\n",
       "    <tr>\n",
       "      <th>43</th>\n",
       "      <td>7281</td>\n",
       "      <td>1959</td>\n",
       "      <td>PhD</td>\n",
       "      <td>Single</td>\n",
       "      <td>NaN</td>\n",
       "      <td>0</td>\n",
       "      <td>0</td>\n",
       "      <td>05-11-2013</td>\n",
       "      <td>80</td>\n",
       "      <td>81</td>\n",
       "      <td>11</td>\n",
       "      <td>50</td>\n",
       "      <td>3</td>\n",
       "      <td>2</td>\n",
       "      <td>39</td>\n",
       "      <td>1</td>\n",
       "      <td>1</td>\n",
       "      <td>3</td>\n",
       "      <td>4</td>\n",
       "      <td>2</td>\n",
       "      <td>0</td>\n",
       "      <td>0</td>\n",
       "      <td>0</td>\n",
       "      <td>0</td>\n",
       "      <td>0</td>\n",
       "      <td>0</td>\n",
       "      <td>3</td>\n",
       "      <td>11</td>\n",
       "      <td>0</td>\n",
       "    </tr>\n",
       "    <tr>\n",
       "      <th>48</th>\n",
       "      <td>7244</td>\n",
       "      <td>1951</td>\n",
       "      <td>Graduation</td>\n",
       "      <td>Single</td>\n",
       "      <td>NaN</td>\n",
       "      <td>2</td>\n",
       "      <td>1</td>\n",
       "      <td>01-01-2014</td>\n",
       "      <td>96</td>\n",
       "      <td>48</td>\n",
       "      <td>5</td>\n",
       "      <td>48</td>\n",
       "      <td>6</td>\n",
       "      <td>10</td>\n",
       "      <td>7</td>\n",
       "      <td>3</td>\n",
       "      <td>2</td>\n",
       "      <td>1</td>\n",
       "      <td>4</td>\n",
       "      <td>6</td>\n",
       "      <td>0</td>\n",
       "      <td>0</td>\n",
       "      <td>0</td>\n",
       "      <td>0</td>\n",
       "      <td>0</td>\n",
       "      <td>0</td>\n",
       "      <td>3</td>\n",
       "      <td>11</td>\n",
       "      <td>0</td>\n",
       "    </tr>\n",
       "    <tr>\n",
       "      <th>58</th>\n",
       "      <td>8557</td>\n",
       "      <td>1982</td>\n",
       "      <td>Graduation</td>\n",
       "      <td>Single</td>\n",
       "      <td>NaN</td>\n",
       "      <td>1</td>\n",
       "      <td>0</td>\n",
       "      <td>17-06-2013</td>\n",
       "      <td>57</td>\n",
       "      <td>11</td>\n",
       "      <td>3</td>\n",
       "      <td>22</td>\n",
       "      <td>2</td>\n",
       "      <td>2</td>\n",
       "      <td>6</td>\n",
       "      <td>2</td>\n",
       "      <td>2</td>\n",
       "      <td>0</td>\n",
       "      <td>3</td>\n",
       "      <td>6</td>\n",
       "      <td>0</td>\n",
       "      <td>0</td>\n",
       "      <td>0</td>\n",
       "      <td>0</td>\n",
       "      <td>0</td>\n",
       "      <td>0</td>\n",
       "      <td>3</td>\n",
       "      <td>11</td>\n",
       "      <td>0</td>\n",
       "    </tr>\n",
       "    <tr>\n",
       "      <th>71</th>\n",
       "      <td>10629</td>\n",
       "      <td>1973</td>\n",
       "      <td>2n Cycle</td>\n",
       "      <td>Married</td>\n",
       "      <td>NaN</td>\n",
       "      <td>1</td>\n",
       "      <td>0</td>\n",
       "      <td>14-09-2012</td>\n",
       "      <td>25</td>\n",
       "      <td>25</td>\n",
       "      <td>3</td>\n",
       "      <td>43</td>\n",
       "      <td>17</td>\n",
       "      <td>4</td>\n",
       "      <td>17</td>\n",
       "      <td>3</td>\n",
       "      <td>3</td>\n",
       "      <td>0</td>\n",
       "      <td>3</td>\n",
       "      <td>8</td>\n",
       "      <td>0</td>\n",
       "      <td>0</td>\n",
       "      <td>0</td>\n",
       "      <td>0</td>\n",
       "      <td>0</td>\n",
       "      <td>0</td>\n",
       "      <td>3</td>\n",
       "      <td>11</td>\n",
       "      <td>0</td>\n",
       "    </tr>\n",
       "    <tr>\n",
       "      <th>90</th>\n",
       "      <td>8996</td>\n",
       "      <td>1957</td>\n",
       "      <td>PhD</td>\n",
       "      <td>Married</td>\n",
       "      <td>NaN</td>\n",
       "      <td>2</td>\n",
       "      <td>1</td>\n",
       "      <td>19-11-2012</td>\n",
       "      <td>4</td>\n",
       "      <td>230</td>\n",
       "      <td>42</td>\n",
       "      <td>192</td>\n",
       "      <td>49</td>\n",
       "      <td>37</td>\n",
       "      <td>53</td>\n",
       "      <td>12</td>\n",
       "      <td>7</td>\n",
       "      <td>2</td>\n",
       "      <td>8</td>\n",
       "      <td>9</td>\n",
       "      <td>0</td>\n",
       "      <td>0</td>\n",
       "      <td>0</td>\n",
       "      <td>0</td>\n",
       "      <td>0</td>\n",
       "      <td>0</td>\n",
       "      <td>3</td>\n",
       "      <td>11</td>\n",
       "      <td>0</td>\n",
       "    </tr>\n",
       "    <tr>\n",
       "      <th>91</th>\n",
       "      <td>9235</td>\n",
       "      <td>1957</td>\n",
       "      <td>Graduation</td>\n",
       "      <td>Single</td>\n",
       "      <td>NaN</td>\n",
       "      <td>1</td>\n",
       "      <td>1</td>\n",
       "      <td>27-05-2014</td>\n",
       "      <td>45</td>\n",
       "      <td>7</td>\n",
       "      <td>0</td>\n",
       "      <td>8</td>\n",
       "      <td>2</td>\n",
       "      <td>0</td>\n",
       "      <td>1</td>\n",
       "      <td>1</td>\n",
       "      <td>1</td>\n",
       "      <td>0</td>\n",
       "      <td>2</td>\n",
       "      <td>7</td>\n",
       "      <td>0</td>\n",
       "      <td>0</td>\n",
       "      <td>0</td>\n",
       "      <td>0</td>\n",
       "      <td>0</td>\n",
       "      <td>0</td>\n",
       "      <td>3</td>\n",
       "      <td>11</td>\n",
       "      <td>0</td>\n",
       "    </tr>\n",
       "    <tr>\n",
       "      <th>92</th>\n",
       "      <td>5798</td>\n",
       "      <td>1973</td>\n",
       "      <td>Master</td>\n",
       "      <td>Together</td>\n",
       "      <td>NaN</td>\n",
       "      <td>0</td>\n",
       "      <td>0</td>\n",
       "      <td>23-11-2013</td>\n",
       "      <td>87</td>\n",
       "      <td>445</td>\n",
       "      <td>37</td>\n",
       "      <td>359</td>\n",
       "      <td>98</td>\n",
       "      <td>28</td>\n",
       "      <td>18</td>\n",
       "      <td>1</td>\n",
       "      <td>2</td>\n",
       "      <td>4</td>\n",
       "      <td>8</td>\n",
       "      <td>1</td>\n",
       "      <td>0</td>\n",
       "      <td>0</td>\n",
       "      <td>0</td>\n",
       "      <td>0</td>\n",
       "      <td>0</td>\n",
       "      <td>0</td>\n",
       "      <td>3</td>\n",
       "      <td>11</td>\n",
       "      <td>0</td>\n",
       "    </tr>\n",
       "    <tr>\n",
       "      <th>128</th>\n",
       "      <td>8268</td>\n",
       "      <td>1961</td>\n",
       "      <td>PhD</td>\n",
       "      <td>Married</td>\n",
       "      <td>NaN</td>\n",
       "      <td>0</td>\n",
       "      <td>1</td>\n",
       "      <td>11-07-2013</td>\n",
       "      <td>23</td>\n",
       "      <td>352</td>\n",
       "      <td>0</td>\n",
       "      <td>27</td>\n",
       "      <td>10</td>\n",
       "      <td>0</td>\n",
       "      <td>15</td>\n",
       "      <td>3</td>\n",
       "      <td>6</td>\n",
       "      <td>1</td>\n",
       "      <td>7</td>\n",
       "      <td>6</td>\n",
       "      <td>0</td>\n",
       "      <td>0</td>\n",
       "      <td>0</td>\n",
       "      <td>0</td>\n",
       "      <td>0</td>\n",
       "      <td>0</td>\n",
       "      <td>3</td>\n",
       "      <td>11</td>\n",
       "      <td>0</td>\n",
       "    </tr>\n",
       "    <tr>\n",
       "      <th>133</th>\n",
       "      <td>1295</td>\n",
       "      <td>1963</td>\n",
       "      <td>Graduation</td>\n",
       "      <td>Married</td>\n",
       "      <td>NaN</td>\n",
       "      <td>0</td>\n",
       "      <td>1</td>\n",
       "      <td>11-08-2013</td>\n",
       "      <td>96</td>\n",
       "      <td>231</td>\n",
       "      <td>65</td>\n",
       "      <td>196</td>\n",
       "      <td>38</td>\n",
       "      <td>71</td>\n",
       "      <td>124</td>\n",
       "      <td>1</td>\n",
       "      <td>6</td>\n",
       "      <td>5</td>\n",
       "      <td>7</td>\n",
       "      <td>4</td>\n",
       "      <td>0</td>\n",
       "      <td>0</td>\n",
       "      <td>0</td>\n",
       "      <td>0</td>\n",
       "      <td>0</td>\n",
       "      <td>0</td>\n",
       "      <td>3</td>\n",
       "      <td>11</td>\n",
       "      <td>0</td>\n",
       "    </tr>\n",
       "    <tr>\n",
       "      <th>312</th>\n",
       "      <td>2437</td>\n",
       "      <td>1989</td>\n",
       "      <td>Graduation</td>\n",
       "      <td>Married</td>\n",
       "      <td>NaN</td>\n",
       "      <td>0</td>\n",
       "      <td>0</td>\n",
       "      <td>03-06-2013</td>\n",
       "      <td>69</td>\n",
       "      <td>861</td>\n",
       "      <td>138</td>\n",
       "      <td>461</td>\n",
       "      <td>60</td>\n",
       "      <td>30</td>\n",
       "      <td>61</td>\n",
       "      <td>1</td>\n",
       "      <td>6</td>\n",
       "      <td>5</td>\n",
       "      <td>12</td>\n",
       "      <td>3</td>\n",
       "      <td>0</td>\n",
       "      <td>1</td>\n",
       "      <td>0</td>\n",
       "      <td>1</td>\n",
       "      <td>0</td>\n",
       "      <td>0</td>\n",
       "      <td>3</td>\n",
       "      <td>11</td>\n",
       "      <td>0</td>\n",
       "    </tr>\n",
       "    <tr>\n",
       "      <th>319</th>\n",
       "      <td>2863</td>\n",
       "      <td>1970</td>\n",
       "      <td>Graduation</td>\n",
       "      <td>Single</td>\n",
       "      <td>NaN</td>\n",
       "      <td>1</td>\n",
       "      <td>2</td>\n",
       "      <td>23-08-2013</td>\n",
       "      <td>67</td>\n",
       "      <td>738</td>\n",
       "      <td>20</td>\n",
       "      <td>172</td>\n",
       "      <td>52</td>\n",
       "      <td>50</td>\n",
       "      <td>20</td>\n",
       "      <td>6</td>\n",
       "      <td>2</td>\n",
       "      <td>3</td>\n",
       "      <td>10</td>\n",
       "      <td>7</td>\n",
       "      <td>0</td>\n",
       "      <td>1</td>\n",
       "      <td>0</td>\n",
       "      <td>1</td>\n",
       "      <td>0</td>\n",
       "      <td>0</td>\n",
       "      <td>3</td>\n",
       "      <td>11</td>\n",
       "      <td>0</td>\n",
       "    </tr>\n",
       "    <tr>\n",
       "      <th>1379</th>\n",
       "      <td>10475</td>\n",
       "      <td>1970</td>\n",
       "      <td>Master</td>\n",
       "      <td>Together</td>\n",
       "      <td>NaN</td>\n",
       "      <td>0</td>\n",
       "      <td>1</td>\n",
       "      <td>01-04-2013</td>\n",
       "      <td>39</td>\n",
       "      <td>187</td>\n",
       "      <td>5</td>\n",
       "      <td>65</td>\n",
       "      <td>26</td>\n",
       "      <td>20</td>\n",
       "      <td>14</td>\n",
       "      <td>2</td>\n",
       "      <td>4</td>\n",
       "      <td>2</td>\n",
       "      <td>6</td>\n",
       "      <td>5</td>\n",
       "      <td>0</td>\n",
       "      <td>0</td>\n",
       "      <td>0</td>\n",
       "      <td>0</td>\n",
       "      <td>0</td>\n",
       "      <td>0</td>\n",
       "      <td>3</td>\n",
       "      <td>11</td>\n",
       "      <td>0</td>\n",
       "    </tr>\n",
       "    <tr>\n",
       "      <th>1382</th>\n",
       "      <td>2902</td>\n",
       "      <td>1958</td>\n",
       "      <td>Graduation</td>\n",
       "      <td>Together</td>\n",
       "      <td>NaN</td>\n",
       "      <td>1</td>\n",
       "      <td>1</td>\n",
       "      <td>03-09-2012</td>\n",
       "      <td>87</td>\n",
       "      <td>19</td>\n",
       "      <td>4</td>\n",
       "      <td>12</td>\n",
       "      <td>2</td>\n",
       "      <td>2</td>\n",
       "      <td>6</td>\n",
       "      <td>1</td>\n",
       "      <td>1</td>\n",
       "      <td>0</td>\n",
       "      <td>3</td>\n",
       "      <td>5</td>\n",
       "      <td>0</td>\n",
       "      <td>0</td>\n",
       "      <td>0</td>\n",
       "      <td>0</td>\n",
       "      <td>0</td>\n",
       "      <td>0</td>\n",
       "      <td>3</td>\n",
       "      <td>11</td>\n",
       "      <td>0</td>\n",
       "    </tr>\n",
       "    <tr>\n",
       "      <th>1383</th>\n",
       "      <td>4345</td>\n",
       "      <td>1964</td>\n",
       "      <td>2n Cycle</td>\n",
       "      <td>Single</td>\n",
       "      <td>NaN</td>\n",
       "      <td>1</td>\n",
       "      <td>1</td>\n",
       "      <td>12-01-2014</td>\n",
       "      <td>49</td>\n",
       "      <td>5</td>\n",
       "      <td>1</td>\n",
       "      <td>9</td>\n",
       "      <td>2</td>\n",
       "      <td>0</td>\n",
       "      <td>4</td>\n",
       "      <td>1</td>\n",
       "      <td>1</td>\n",
       "      <td>0</td>\n",
       "      <td>2</td>\n",
       "      <td>7</td>\n",
       "      <td>0</td>\n",
       "      <td>0</td>\n",
       "      <td>0</td>\n",
       "      <td>0</td>\n",
       "      <td>0</td>\n",
       "      <td>0</td>\n",
       "      <td>3</td>\n",
       "      <td>11</td>\n",
       "      <td>0</td>\n",
       "    </tr>\n",
       "    <tr>\n",
       "      <th>1386</th>\n",
       "      <td>3769</td>\n",
       "      <td>1972</td>\n",
       "      <td>PhD</td>\n",
       "      <td>Together</td>\n",
       "      <td>NaN</td>\n",
       "      <td>1</td>\n",
       "      <td>0</td>\n",
       "      <td>02-03-2014</td>\n",
       "      <td>17</td>\n",
       "      <td>25</td>\n",
       "      <td>1</td>\n",
       "      <td>13</td>\n",
       "      <td>0</td>\n",
       "      <td>0</td>\n",
       "      <td>3</td>\n",
       "      <td>1</td>\n",
       "      <td>1</td>\n",
       "      <td>0</td>\n",
       "      <td>3</td>\n",
       "      <td>7</td>\n",
       "      <td>0</td>\n",
       "      <td>0</td>\n",
       "      <td>0</td>\n",
       "      <td>0</td>\n",
       "      <td>0</td>\n",
       "      <td>0</td>\n",
       "      <td>3</td>\n",
       "      <td>11</td>\n",
       "      <td>0</td>\n",
       "    </tr>\n",
       "    <tr>\n",
       "      <th>2059</th>\n",
       "      <td>7187</td>\n",
       "      <td>1969</td>\n",
       "      <td>Master</td>\n",
       "      <td>Together</td>\n",
       "      <td>NaN</td>\n",
       "      <td>1</td>\n",
       "      <td>1</td>\n",
       "      <td>18-05-2013</td>\n",
       "      <td>52</td>\n",
       "      <td>375</td>\n",
       "      <td>42</td>\n",
       "      <td>48</td>\n",
       "      <td>94</td>\n",
       "      <td>66</td>\n",
       "      <td>96</td>\n",
       "      <td>7</td>\n",
       "      <td>4</td>\n",
       "      <td>10</td>\n",
       "      <td>4</td>\n",
       "      <td>3</td>\n",
       "      <td>0</td>\n",
       "      <td>0</td>\n",
       "      <td>0</td>\n",
       "      <td>0</td>\n",
       "      <td>0</td>\n",
       "      <td>0</td>\n",
       "      <td>3</td>\n",
       "      <td>11</td>\n",
       "      <td>0</td>\n",
       "    </tr>\n",
       "    <tr>\n",
       "      <th>2061</th>\n",
       "      <td>1612</td>\n",
       "      <td>1981</td>\n",
       "      <td>PhD</td>\n",
       "      <td>Single</td>\n",
       "      <td>NaN</td>\n",
       "      <td>1</td>\n",
       "      <td>0</td>\n",
       "      <td>31-05-2013</td>\n",
       "      <td>82</td>\n",
       "      <td>23</td>\n",
       "      <td>0</td>\n",
       "      <td>15</td>\n",
       "      <td>0</td>\n",
       "      <td>2</td>\n",
       "      <td>7</td>\n",
       "      <td>2</td>\n",
       "      <td>3</td>\n",
       "      <td>0</td>\n",
       "      <td>3</td>\n",
       "      <td>6</td>\n",
       "      <td>0</td>\n",
       "      <td>0</td>\n",
       "      <td>0</td>\n",
       "      <td>0</td>\n",
       "      <td>0</td>\n",
       "      <td>0</td>\n",
       "      <td>3</td>\n",
       "      <td>11</td>\n",
       "      <td>0</td>\n",
       "    </tr>\n",
       "    <tr>\n",
       "      <th>2078</th>\n",
       "      <td>5079</td>\n",
       "      <td>1971</td>\n",
       "      <td>Graduation</td>\n",
       "      <td>Married</td>\n",
       "      <td>NaN</td>\n",
       "      <td>1</td>\n",
       "      <td>1</td>\n",
       "      <td>03-03-2013</td>\n",
       "      <td>82</td>\n",
       "      <td>71</td>\n",
       "      <td>1</td>\n",
       "      <td>16</td>\n",
       "      <td>0</td>\n",
       "      <td>0</td>\n",
       "      <td>9</td>\n",
       "      <td>4</td>\n",
       "      <td>2</td>\n",
       "      <td>1</td>\n",
       "      <td>3</td>\n",
       "      <td>8</td>\n",
       "      <td>0</td>\n",
       "      <td>0</td>\n",
       "      <td>0</td>\n",
       "      <td>0</td>\n",
       "      <td>0</td>\n",
       "      <td>0</td>\n",
       "      <td>3</td>\n",
       "      <td>11</td>\n",
       "      <td>0</td>\n",
       "    </tr>\n",
       "    <tr>\n",
       "      <th>2079</th>\n",
       "      <td>10339</td>\n",
       "      <td>1954</td>\n",
       "      <td>Master</td>\n",
       "      <td>Together</td>\n",
       "      <td>NaN</td>\n",
       "      <td>0</td>\n",
       "      <td>1</td>\n",
       "      <td>23-06-2013</td>\n",
       "      <td>83</td>\n",
       "      <td>161</td>\n",
       "      <td>0</td>\n",
       "      <td>22</td>\n",
       "      <td>0</td>\n",
       "      <td>0</td>\n",
       "      <td>24</td>\n",
       "      <td>2</td>\n",
       "      <td>4</td>\n",
       "      <td>1</td>\n",
       "      <td>4</td>\n",
       "      <td>6</td>\n",
       "      <td>0</td>\n",
       "      <td>0</td>\n",
       "      <td>0</td>\n",
       "      <td>0</td>\n",
       "      <td>0</td>\n",
       "      <td>0</td>\n",
       "      <td>3</td>\n",
       "      <td>11</td>\n",
       "      <td>0</td>\n",
       "    </tr>\n",
       "    <tr>\n",
       "      <th>2081</th>\n",
       "      <td>3117</td>\n",
       "      <td>1955</td>\n",
       "      <td>Graduation</td>\n",
       "      <td>Single</td>\n",
       "      <td>NaN</td>\n",
       "      <td>0</td>\n",
       "      <td>1</td>\n",
       "      <td>18-10-2013</td>\n",
       "      <td>95</td>\n",
       "      <td>264</td>\n",
       "      <td>0</td>\n",
       "      <td>21</td>\n",
       "      <td>12</td>\n",
       "      <td>6</td>\n",
       "      <td>147</td>\n",
       "      <td>3</td>\n",
       "      <td>6</td>\n",
       "      <td>1</td>\n",
       "      <td>5</td>\n",
       "      <td>7</td>\n",
       "      <td>0</td>\n",
       "      <td>0</td>\n",
       "      <td>0</td>\n",
       "      <td>0</td>\n",
       "      <td>0</td>\n",
       "      <td>0</td>\n",
       "      <td>3</td>\n",
       "      <td>11</td>\n",
       "      <td>0</td>\n",
       "    </tr>\n",
       "    <tr>\n",
       "      <th>2084</th>\n",
       "      <td>5250</td>\n",
       "      <td>1943</td>\n",
       "      <td>Master</td>\n",
       "      <td>Widow</td>\n",
       "      <td>NaN</td>\n",
       "      <td>0</td>\n",
       "      <td>0</td>\n",
       "      <td>30-10-2013</td>\n",
       "      <td>75</td>\n",
       "      <td>532</td>\n",
       "      <td>126</td>\n",
       "      <td>490</td>\n",
       "      <td>164</td>\n",
       "      <td>126</td>\n",
       "      <td>126</td>\n",
       "      <td>1</td>\n",
       "      <td>5</td>\n",
       "      <td>5</td>\n",
       "      <td>11</td>\n",
       "      <td>1</td>\n",
       "      <td>0</td>\n",
       "      <td>0</td>\n",
       "      <td>1</td>\n",
       "      <td>0</td>\n",
       "      <td>0</td>\n",
       "      <td>0</td>\n",
       "      <td>3</td>\n",
       "      <td>11</td>\n",
       "      <td>1</td>\n",
       "    </tr>\n",
       "    <tr>\n",
       "      <th>2228</th>\n",
       "      <td>8720</td>\n",
       "      <td>1978</td>\n",
       "      <td>2n Cycle</td>\n",
       "      <td>Together</td>\n",
       "      <td>NaN</td>\n",
       "      <td>0</td>\n",
       "      <td>0</td>\n",
       "      <td>12-08-2012</td>\n",
       "      <td>53</td>\n",
       "      <td>32</td>\n",
       "      <td>2</td>\n",
       "      <td>1607</td>\n",
       "      <td>12</td>\n",
       "      <td>4</td>\n",
       "      <td>22</td>\n",
       "      <td>0</td>\n",
       "      <td>0</td>\n",
       "      <td>0</td>\n",
       "      <td>1</td>\n",
       "      <td>0</td>\n",
       "      <td>0</td>\n",
       "      <td>1</td>\n",
       "      <td>0</td>\n",
       "      <td>0</td>\n",
       "      <td>0</td>\n",
       "      <td>0</td>\n",
       "      <td>3</td>\n",
       "      <td>11</td>\n",
       "      <td>0</td>\n",
       "    </tr>\n",
       "  </tbody>\n",
       "</table>\n",
       "</div>"
      ],
      "text/plain": [
       "         ID  Year_Birth   Education Marital_Status  Income  Kidhome  Teenhome  \\\n",
       "10     1994        1983  Graduation        Married     NaN        1         0   \n",
       "27     5255        1986  Graduation         Single     NaN        1         0   \n",
       "43     7281        1959         PhD         Single     NaN        0         0   \n",
       "48     7244        1951  Graduation         Single     NaN        2         1   \n",
       "58     8557        1982  Graduation         Single     NaN        1         0   \n",
       "71    10629        1973    2n Cycle        Married     NaN        1         0   \n",
       "90     8996        1957         PhD        Married     NaN        2         1   \n",
       "91     9235        1957  Graduation         Single     NaN        1         1   \n",
       "92     5798        1973      Master       Together     NaN        0         0   \n",
       "128    8268        1961         PhD        Married     NaN        0         1   \n",
       "133    1295        1963  Graduation        Married     NaN        0         1   \n",
       "312    2437        1989  Graduation        Married     NaN        0         0   \n",
       "319    2863        1970  Graduation         Single     NaN        1         2   \n",
       "1379  10475        1970      Master       Together     NaN        0         1   \n",
       "1382   2902        1958  Graduation       Together     NaN        1         1   \n",
       "1383   4345        1964    2n Cycle         Single     NaN        1         1   \n",
       "1386   3769        1972         PhD       Together     NaN        1         0   \n",
       "2059   7187        1969      Master       Together     NaN        1         1   \n",
       "2061   1612        1981         PhD         Single     NaN        1         0   \n",
       "2078   5079        1971  Graduation        Married     NaN        1         1   \n",
       "2079  10339        1954      Master       Together     NaN        0         1   \n",
       "2081   3117        1955  Graduation         Single     NaN        0         1   \n",
       "2084   5250        1943      Master          Widow     NaN        0         0   \n",
       "2228   8720        1978    2n Cycle       Together     NaN        0         0   \n",
       "\n",
       "     Dt_Customer  Recency  MntWines  MntFruits  MntMeatProducts  \\\n",
       "10    15-11-2013       11         5          5                6   \n",
       "27    20-02-2013       19         5          1                3   \n",
       "43    05-11-2013       80        81         11               50   \n",
       "48    01-01-2014       96        48          5               48   \n",
       "58    17-06-2013       57        11          3               22   \n",
       "71    14-09-2012       25        25          3               43   \n",
       "90    19-11-2012        4       230         42              192   \n",
       "91    27-05-2014       45         7          0                8   \n",
       "92    23-11-2013       87       445         37              359   \n",
       "128   11-07-2013       23       352          0               27   \n",
       "133   11-08-2013       96       231         65              196   \n",
       "312   03-06-2013       69       861        138              461   \n",
       "319   23-08-2013       67       738         20              172   \n",
       "1379  01-04-2013       39       187          5               65   \n",
       "1382  03-09-2012       87        19          4               12   \n",
       "1383  12-01-2014       49         5          1                9   \n",
       "1386  02-03-2014       17        25          1               13   \n",
       "2059  18-05-2013       52       375         42               48   \n",
       "2061  31-05-2013       82        23          0               15   \n",
       "2078  03-03-2013       82        71          1               16   \n",
       "2079  23-06-2013       83       161          0               22   \n",
       "2081  18-10-2013       95       264          0               21   \n",
       "2084  30-10-2013       75       532        126              490   \n",
       "2228  12-08-2012       53        32          2             1607   \n",
       "\n",
       "      MntFishProducts  MntSweetProducts  MntGoldProds  NumDealsPurchases  \\\n",
       "10                  0                 2             1                  1   \n",
       "27                  3               263           362                  0   \n",
       "43                  3                 2            39                  1   \n",
       "48                  6                10             7                  3   \n",
       "58                  2                 2             6                  2   \n",
       "71                 17                 4            17                  3   \n",
       "90                 49                37            53                 12   \n",
       "91                  2                 0             1                  1   \n",
       "92                 98                28            18                  1   \n",
       "128                10                 0            15                  3   \n",
       "133                38                71           124                  1   \n",
       "312                60                30            61                  1   \n",
       "319                52                50            20                  6   \n",
       "1379               26                20            14                  2   \n",
       "1382                2                 2             6                  1   \n",
       "1383                2                 0             4                  1   \n",
       "1386                0                 0             3                  1   \n",
       "2059               94                66            96                  7   \n",
       "2061                0                 2             7                  2   \n",
       "2078                0                 0             9                  4   \n",
       "2079                0                 0            24                  2   \n",
       "2081               12                 6           147                  3   \n",
       "2084              164               126           126                  1   \n",
       "2228               12                 4            22                  0   \n",
       "\n",
       "      NumWebPurchases  NumCatalogPurchases  NumStorePurchases  \\\n",
       "10                  1                    0                  2   \n",
       "27                 27                    0                  0   \n",
       "43                  1                    3                  4   \n",
       "48                  2                    1                  4   \n",
       "58                  2                    0                  3   \n",
       "71                  3                    0                  3   \n",
       "90                  7                    2                  8   \n",
       "91                  1                    0                  2   \n",
       "92                  2                    4                  8   \n",
       "128                 6                    1                  7   \n",
       "133                 6                    5                  7   \n",
       "312                 6                    5                 12   \n",
       "319                 2                    3                 10   \n",
       "1379                4                    2                  6   \n",
       "1382                1                    0                  3   \n",
       "1383                1                    0                  2   \n",
       "1386                1                    0                  3   \n",
       "2059                4                   10                  4   \n",
       "2061                3                    0                  3   \n",
       "2078                2                    1                  3   \n",
       "2079                4                    1                  4   \n",
       "2081                6                    1                  5   \n",
       "2084                5                    5                 11   \n",
       "2228                0                    0                  1   \n",
       "\n",
       "      NumWebVisitsMonth  AcceptedCmp3  AcceptedCmp4  AcceptedCmp5  \\\n",
       "10                    7             0             0             0   \n",
       "27                    1             0             0             0   \n",
       "43                    2             0             0             0   \n",
       "48                    6             0             0             0   \n",
       "58                    6             0             0             0   \n",
       "71                    8             0             0             0   \n",
       "90                    9             0             0             0   \n",
       "91                    7             0             0             0   \n",
       "92                    1             0             0             0   \n",
       "128                   6             0             0             0   \n",
       "133                   4             0             0             0   \n",
       "312                   3             0             1             0   \n",
       "319                   7             0             1             0   \n",
       "1379                  5             0             0             0   \n",
       "1382                  5             0             0             0   \n",
       "1383                  7             0             0             0   \n",
       "1386                  7             0             0             0   \n",
       "2059                  3             0             0             0   \n",
       "2061                  6             0             0             0   \n",
       "2078                  8             0             0             0   \n",
       "2079                  6             0             0             0   \n",
       "2081                  7             0             0             0   \n",
       "2084                  1             0             0             1   \n",
       "2228                  0             0             1             0   \n",
       "\n",
       "      AcceptedCmp1  AcceptedCmp2  Complain  Z_CostContact  Z_Revenue  Response  \n",
       "10               0             0         0              3         11         0  \n",
       "27               0             0         0              3         11         0  \n",
       "43               0             0         0              3         11         0  \n",
       "48               0             0         0              3         11         0  \n",
       "58               0             0         0              3         11         0  \n",
       "71               0             0         0              3         11         0  \n",
       "90               0             0         0              3         11         0  \n",
       "91               0             0         0              3         11         0  \n",
       "92               0             0         0              3         11         0  \n",
       "128              0             0         0              3         11         0  \n",
       "133              0             0         0              3         11         0  \n",
       "312              1             0         0              3         11         0  \n",
       "319              1             0         0              3         11         0  \n",
       "1379             0             0         0              3         11         0  \n",
       "1382             0             0         0              3         11         0  \n",
       "1383             0             0         0              3         11         0  \n",
       "1386             0             0         0              3         11         0  \n",
       "2059             0             0         0              3         11         0  \n",
       "2061             0             0         0              3         11         0  \n",
       "2078             0             0         0              3         11         0  \n",
       "2079             0             0         0              3         11         0  \n",
       "2081             0             0         0              3         11         0  \n",
       "2084             0             0         0              3         11         1  \n",
       "2228             0             0         0              3         11         0  "
      ]
     },
     "execution_count": 6,
     "metadata": {},
     "output_type": "execute_result"
    }
   ],
   "source": [
    "marketing[marketing['Income'].isna() == True]"
   ]
  },
  {
   "cell_type": "markdown",
   "id": "3596f912",
   "metadata": {},
   "source": [
    "24 missing entries for income column.\n",
    "\n",
    "We can try imputing the income based on education later.\n",
    "\n",
    "Let's see the distribution of our target response."
   ]
  },
  {
   "cell_type": "code",
   "execution_count": 7,
   "id": "45f32475",
   "metadata": {
    "scrolled": true
   },
   "outputs": [
    {
     "data": {
      "image/png": "[encoded data removed]",
      "text/plain": [
       "<Figure size 648x360 with 1 Axes>"
      ]
     },
     "metadata": {
      "needs_background": "light"
     },
     "output_type": "display_data"
    }
   ],
   "source": [
    "fig = plt.figure(figsize = (9,5))\n",
    "ax = sns.countplot(x = 'Response', data = marketing)\n",
    "\n",
    "for p, label in zip(ax.patches, marketing[\"Response\"].value_counts().values):\n",
    "    ax.annotate(label, (p.get_x()+0.375, p.get_height()+0.4))\n"
   ]
  },
  {
   "cell_type": "markdown",
   "id": "25256bce",
   "metadata": {},
   "source": [
    "We actually have a really unbalanced distribution where most of the customers in our dataset did not end up responding to any of the campaigns.\n",
    "\n",
    "Let's look at the customers's income by those who responded vs those who didn't"
   ]
  },
  {
   "cell_type": "code",
   "execution_count": 8,
   "id": "73fdaf32",
   "metadata": {},
   "outputs": [
    {
     "data": {
      "text/plain": [
       "<matplotlib.legend.Legend at 0x286cd4f72e0>"
      ]
     },
     "execution_count": 8,
     "metadata": {},
     "output_type": "execute_result"
    },
    {
     "data": {
      "image/png": "[encoded data removed]",
      "text/plain": [
       "<Figure size 792x504 with 1 Axes>"
      ]
     },
     "metadata": {
      "needs_background": "light"
     },
     "output_type": "display_data"
    }
   ],
   "source": [
    "plt.figure(figsize = (11,7))\n",
    "marketing[marketing['Response'] == 0]['Income'].dropna().hist(bins = 30, alpha = 0.6, label = 'Responded', color = 'blue')\n",
    "marketing[marketing['Response'] == 1]['Income'].dropna().hist(bins = 30, alpha = 0.6, label = 'Did Not Respond', color = 'red')\n",
    "plt.legend()"
   ]
  },
  {
   "cell_type": "markdown",
   "id": "af4860aa",
   "metadata": {},
   "source": [
    "Hard to make any conclusions since, again, the distribution is really inbalanced, but there are some major outliers/far out points in terms of income for those who have responded.\n",
    "\n",
    "How about income and marital status? We're dropping thhe big income outlier."
   ]
  },
  {
   "cell_type": "code",
   "execution_count": 9,
   "id": "39ea40fc",
   "metadata": {},
   "outputs": [
    {
     "data": {
      "text/plain": [
       "<Figure size 1080x576 with 0 Axes>"
      ]
     },
     "metadata": {},
     "output_type": "display_data"
    },
    {
     "data": {
      "image/png": "[encoded data removed]",
      "text/plain": [
       "<Figure size 360x360 with 1 Axes>"
      ]
     },
     "metadata": {
      "needs_background": "light"
     },
     "output_type": "display_data"
    }
   ],
   "source": [
    "plt.figure(figsize = (15,8))\n",
    "ax = sns.catplot(x=\"Marital_Status\", y=\"Income\", kind=\"box\", data=marketing.drop(marketing[marketing['Income'] > 500000].index))\n",
    "plt.xticks(rotation=45)\n",
    "plt.show()"
   ]
  },
  {
   "cell_type": "markdown",
   "id": "92513271",
   "metadata": {},
   "source": [
    "There are some interesting descriptions for marital status. A major outlier in 'Together' is pushing the x-axis way up and making the differences between marital status incomes seem insignificant. Regardless there doesn't seem to be any major differences in income between the main statuses of Single, Together, Married, Divorced, and Widow. \n",
    "\n",
    "Let's see how closely education and income are to each other."
   ]
  },
  {
   "cell_type": "code",
   "execution_count": 10,
   "id": "5d4c6dd1",
   "metadata": {},
   "outputs": [
    {
     "data": {
      "text/plain": [
       "<Figure size 1080x576 with 0 Axes>"
      ]
     },
     "metadata": {},
     "output_type": "display_data"
    },
    {
     "data": {
      "image/png": "[encoded data removed]",
      "text/plain": [
       "<Figure size 360x360 with 1 Axes>"
      ]
     },
     "metadata": {
      "needs_background": "light"
     },
     "output_type": "display_data"
    }
   ],
   "source": [
    "plt.figure(figsize = (15,8))\n",
    "ax = sns.catplot(x=\"Education\", y=\"Income\", kind=\"box\", data=marketing.drop(marketing[marketing['Income'] > 500000].index))\n",
    "plt.xticks(rotation=45)\n",
    "plt.show()"
   ]
  },
  {
   "cell_type": "markdown",
   "id": "93f5183d",
   "metadata": {},
   "source": [
    "Unfortunately, there does seem to be some difference in income with education, particularly median income increases with education level."
   ]
  },
  {
   "cell_type": "markdown",
   "id": "3b2e8bda",
   "metadata": {},
   "source": [
    "# Data Preprocessing"
   ]
  },
  {
   "cell_type": "markdown",
   "id": "13508703",
   "metadata": {},
   "source": [
    "We're going to try imputing the 24 missing income values with education."
   ]
  },
  {
   "cell_type": "code",
   "execution_count": 11,
   "id": "14d8f04b",
   "metadata": {},
   "outputs": [],
   "source": [
    "def impute_income(cols):\n",
    "    Income = cols[0]\n",
    "    educ = cols[1]\n",
    "\n",
    "    if pd.isnull(Income):\n",
    "        if educ == 'Graduation':\n",
    "            return round(marketing[marketing['Education'] == 'Graduation']['Income'].dropna().mean() ) # the average for grads\n",
    "        elif educ == 'PhD':\n",
    "            return round(marketing[marketing['Education'] == 'PhD']['Income'].dropna().mean()) # the average for phd's\n",
    "        elif educ == 'Master':\n",
    "            return round(marketing[marketing['Education'] == 'Master']['Income'].dropna().mean()) # the average for masters\n",
    "        elif educ == 'Basic':\n",
    "                return round(marketing[marketing['Education'] == 'Basic']['Income'].dropna().mean())  # basic        \n",
    "        else:\n",
    "                return round(marketing[marketing['Education'] == '2n Cycle']['Income'].dropna().mean()) # 2n cycle\n",
    "                          \n",
    "    else:\n",
    "        return Income"
   ]
  },
  {
   "cell_type": "code",
   "execution_count": 12,
   "id": "9fe34a8a",
   "metadata": {},
   "outputs": [
    {
     "data": {
      "text/plain": [
       "0"
      ]
     },
     "execution_count": 12,
     "metadata": {},
     "output_type": "execute_result"
    }
   ],
   "source": [
    "marketing['Income'] = marketing[['Income', 'Education']].apply(impute_income, axis = 1)\n",
    "marketing['Income'].isna().sum()"
   ]
  },
  {
   "cell_type": "markdown",
   "id": "f11b207d",
   "metadata": {},
   "source": [
    "We successfully imputed the missing values for Income.\n",
    "\n",
    "Now to drop columns we don't need."
   ]
  },
  {
   "cell_type": "code",
   "execution_count": 13,
   "id": "b429b5cf",
   "metadata": {},
   "outputs": [
    {
     "name": "stdout",
     "output_type": "stream",
     "text": [
      "<class 'pandas.core.frame.DataFrame'>\n",
      "RangeIndex: 2240 entries, 0 to 2239\n",
      "Data columns (total 29 columns):\n",
      " #   Column               Non-Null Count  Dtype  \n",
      "---  ------               --------------  -----  \n",
      " 0   ID                   2240 non-null   int64  \n",
      " 1   Year_Birth           2240 non-null   int64  \n",
      " 2   Education            2240 non-null   object \n",
      " 3   Marital_Status       2240 non-null   object \n",
      " 4   Income               2240 non-null   float64\n",
      " 5   Kidhome              2240 non-null   int64  \n",
      " 6   Teenhome             2240 non-null   int64  \n",
      " 7   Dt_Customer          2240 non-null   object \n",
      " 8   Recency              2240 non-null   int64  \n",
      " 9   MntWines             2240 non-null   int64  \n",
      " 10  MntFruits            2240 non-null   int64  \n",
      " 11  MntMeatProducts      2240 non-null   int64  \n",
      " 12  MntFishProducts      2240 non-null   int64  \n",
      " 13  MntSweetProducts     2240 non-null   int64  \n",
      " 14  MntGoldProds         2240 non-null   int64  \n",
      " 15  NumDealsPurchases    2240 non-null   int64  \n",
      " 16  NumWebPurchases      2240 non-null   int64  \n",
      " 17  NumCatalogPurchases  2240 non-null   int64  \n",
      " 18  NumStorePurchases    2240 non-null   int64  \n",
      " 19  NumWebVisitsMonth    2240 non-null   int64  \n",
      " 20  AcceptedCmp3         2240 non-null   int64  \n",
      " 21  AcceptedCmp4         2240 non-null   int64  \n",
      " 22  AcceptedCmp5         2240 non-null   int64  \n",
      " 23  AcceptedCmp1         2240 non-null   int64  \n",
      " 24  AcceptedCmp2         2240 non-null   int64  \n",
      " 25  Complain             2240 non-null   int64  \n",
      " 26  Z_CostContact        2240 non-null   int64  \n",
      " 27  Z_Revenue            2240 non-null   int64  \n",
      " 28  Response             2240 non-null   int64  \n",
      "dtypes: float64(1), int64(25), object(3)\n",
      "memory usage: 507.6+ KB\n"
     ]
    }
   ],
   "source": [
    "marketing.info()"
   ]
  },
  {
   "cell_type": "code",
   "execution_count": 14,
   "id": "54a86b18",
   "metadata": {},
   "outputs": [],
   "source": [
    "marketing.drop(['ID','AcceptedCmp3','AcceptedCmp4', 'AcceptedCmp5', 'AcceptedCmp1', 'AcceptedCmp2', 'Z_CostContact', 'Z_Revenue'], axis = 1, inplace = True)"
   ]
  },
  {
   "cell_type": "markdown",
   "id": "a949cf47",
   "metadata": {},
   "source": [
    "We're not interested in which campaign the customer responded in. We also don't know what `Z_CostContact` and `Z_Revenue` are supposed to represent since they're not in the documentation, and they seem to be all the same value anyways. \n",
    "\n",
    "We also want to convert customer date of enrollment to a number that we can use, like days of enrollment."
   ]
  },
  {
   "cell_type": "code",
   "execution_count": 15,
   "id": "f5975cb6",
   "metadata": {},
   "outputs": [],
   "source": [
    "from datetime import datetime, date\n",
    "\n",
    "def get_days(date):\n",
    "    start = date\n",
    "  \n",
    "    #Identify given date as date month and year\n",
    "    start = datetime.strptime(start, \"%d-%m-%Y\").date()\n",
    "  \n",
    "    # Set \"today\" as January 1st, 2015\n",
    "    today = datetime.strptime(\"01-01-2015\", \"%d-%m-%Y\").date()\n",
    "\n",
    "    return (today - start).days"
   ]
  },
  {
   "cell_type": "code",
   "execution_count": 16,
   "id": "a5cbbfce",
   "metadata": {},
   "outputs": [],
   "source": [
    "marketing['Days Enrolled'] = marketing['Dt_Customer'].apply(get_days)"
   ]
  },
  {
   "cell_type": "code",
   "execution_count": 17,
   "id": "aa328f47",
   "metadata": {},
   "outputs": [
    {
     "data": {
      "text/plain": [
       "0       849\n",
       "1       299\n",
       "2       498\n",
       "3       325\n",
       "4       347\n",
       "       ... \n",
       "2235    567\n",
       "2236    205\n",
       "2237    341\n",
       "2238    342\n",
       "2239    808\n",
       "Name: Days Enrolled, Length: 2240, dtype: int64"
      ]
     },
     "execution_count": 17,
     "metadata": {},
     "output_type": "execute_result"
    }
   ],
   "source": [
    "marketing['Days Enrolled']"
   ]
  },
  {
   "cell_type": "code",
   "execution_count": 18,
   "id": "a2e2414d",
   "metadata": {},
   "outputs": [],
   "source": [
    "marketing.drop(['Dt_Customer'], axis = 1, inplace = True)"
   ]
  },
  {
   "cell_type": "markdown",
   "id": "46b542fa",
   "metadata": {},
   "source": [
    "Now to vectorize our remaining categorical variables."
   ]
  },
  {
   "cell_type": "code",
   "execution_count": 19,
   "id": "2092225e",
   "metadata": {},
   "outputs": [
    {
     "data": {
      "text/plain": [
       "0       58138.0\n",
       "1       46344.0\n",
       "2       71613.0\n",
       "3       26646.0\n",
       "4       58293.0\n",
       "         ...   \n",
       "2235    61223.0\n",
       "2236    64014.0\n",
       "2237    56981.0\n",
       "2238    69245.0\n",
       "2239    52869.0\n",
       "Name: Income, Length: 2240, dtype: float64"
      ]
     },
     "execution_count": 19,
     "metadata": {},
     "output_type": "execute_result"
    }
   ],
   "source": [
    "marketing['Income']"
   ]
  },
  {
   "cell_type": "code",
   "execution_count": 20,
   "id": "20b845c4",
   "metadata": {},
   "outputs": [],
   "source": [
    "data = pd.get_dummies(marketing, columns = ['Education','Marital_Status'], drop_first = True)"
   ]
  },
  {
   "cell_type": "code",
   "execution_count": 21,
   "id": "6c739ccb",
   "metadata": {},
   "outputs": [
    {
     "name": "stdout",
     "output_type": "stream",
     "text": [
      "<class 'pandas.core.frame.DataFrame'>\n",
      "RangeIndex: 2240 entries, 0 to 2239\n",
      "Data columns (total 30 columns):\n",
      " #   Column                   Non-Null Count  Dtype  \n",
      "---  ------                   --------------  -----  \n",
      " 0   Year_Birth               2240 non-null   int64  \n",
      " 1   Income                   2240 non-null   float64\n",
      " 2   Kidhome                  2240 non-null   int64  \n",
      " 3   Teenhome                 2240 non-null   int64  \n",
      " 4   Recency                  2240 non-null   int64  \n",
      " 5   MntWines                 2240 non-null   int64  \n",
      " 6   MntFruits                2240 non-null   int64  \n",
      " 7   MntMeatProducts          2240 non-null   int64  \n",
      " 8   MntFishProducts          2240 non-null   int64  \n",
      " 9   MntSweetProducts         2240 non-null   int64  \n",
      " 10  MntGoldProds             2240 non-null   int64  \n",
      " 11  NumDealsPurchases        2240 non-null   int64  \n",
      " 12  NumWebPurchases          2240 non-null   int64  \n",
      " 13  NumCatalogPurchases      2240 non-null   int64  \n",
      " 14  NumStorePurchases        2240 non-null   int64  \n",
      " 15  NumWebVisitsMonth        2240 non-null   int64  \n",
      " 16  Complain                 2240 non-null   int64  \n",
      " 17  Response                 2240 non-null   int64  \n",
      " 18  Days Enrolled            2240 non-null   int64  \n",
      " 19  Education_Basic          2240 non-null   uint8  \n",
      " 20  Education_Graduation     2240 non-null   uint8  \n",
      " 21  Education_Master         2240 non-null   uint8  \n",
      " 22  Education_PhD            2240 non-null   uint8  \n",
      " 23  Marital_Status_Alone     2240 non-null   uint8  \n",
      " 24  Marital_Status_Divorced  2240 non-null   uint8  \n",
      " 25  Marital_Status_Married   2240 non-null   uint8  \n",
      " 26  Marital_Status_Single    2240 non-null   uint8  \n",
      " 27  Marital_Status_Together  2240 non-null   uint8  \n",
      " 28  Marital_Status_Widow     2240 non-null   uint8  \n",
      " 29  Marital_Status_YOLO      2240 non-null   uint8  \n",
      "dtypes: float64(1), int64(18), uint8(11)\n",
      "memory usage: 356.7 KB\n"
     ]
    }
   ],
   "source": [
    "data.info()"
   ]
  },
  {
   "cell_type": "markdown",
   "id": "06a39830",
   "metadata": {},
   "source": [
    "# Unsupervised Learning\n",
    "\n",
    "## Kmeans"
   ]
  },
  {
   "cell_type": "code",
   "execution_count": 22,
   "id": "f856f45d",
   "metadata": {},
   "outputs": [],
   "source": [
    "from sklearn.cluster import KMeans"
   ]
  },
  {
   "cell_type": "code",
   "execution_count": 23,
   "id": "6f3f7a95",
   "metadata": {},
   "outputs": [],
   "source": [
    "kmeans = KMeans(n_clusters=2)\n",
    "# Start with two means. Hopefully we can separate response from non-response"
   ]
  },
  {
   "cell_type": "code",
   "execution_count": 24,
   "id": "cf88b526",
   "metadata": {},
   "outputs": [
    {
     "data": {
      "text/plain": [
       "KMeans(n_clusters=2)"
      ]
     },
     "execution_count": 24,
     "metadata": {},
     "output_type": "execute_result"
    }
   ],
   "source": [
    "# Fit on data except target response\n",
    "kmeans.fit(data.drop('Response', axis = 1))"
   ]
  },
  {
   "cell_type": "code",
   "execution_count": 25,
   "id": "c9a8dc66",
   "metadata": {},
   "outputs": [
    {
     "name": "stdout",
     "output_type": "stream",
     "text": [
      "[[1039  867]\n",
      " [ 131  203]]\n",
      "              precision    recall  f1-score   support\n",
      "\n",
      "           0       0.89      0.55      0.68      1906\n",
      "           1       0.19      0.61      0.29       334\n",
      "\n",
      "    accuracy                           0.55      2240\n",
      "   macro avg       0.54      0.58      0.48      2240\n",
      "weighted avg       0.78      0.55      0.62      2240\n",
      "\n"
     ]
    }
   ],
   "source": [
    "from sklearn.metrics import confusion_matrix,classification_report\n",
    "print(confusion_matrix(data['Response'],kmeans.labels_))\n",
    "print(classification_report(data['Response'],kmeans.labels_))"
   ]
  },
  {
   "cell_type": "markdown",
   "id": "6fdd0f74",
   "metadata": {},
   "source": [
    "## Spectral Clustering"
   ]
  },
  {
   "cell_type": "code",
   "execution_count": 26,
   "id": "99022cf5",
   "metadata": {},
   "outputs": [],
   "source": [
    "from sklearn.cluster import SpectralClustering"
   ]
  },
  {
   "cell_type": "code",
   "execution_count": 27,
   "id": "9c8ae8b4",
   "metadata": {},
   "outputs": [],
   "source": [
    "model = SpectralClustering(n_clusters = 2,\n",
    "                          affinity = 'nearest_neighbors', assign_labels = 'kmeans')\n",
    "sc_labels = model.fit_predict(data.drop('Response', axis = 1))"
   ]
  },
  {
   "cell_type": "code",
   "execution_count": 28,
   "id": "bd745360",
   "metadata": {},
   "outputs": [
    {
     "name": "stdout",
     "output_type": "stream",
     "text": [
      "[[ 808 1098]\n",
      " [ 104  230]]\n",
      "              precision    recall  f1-score   support\n",
      "\n",
      "           0       0.89      0.42      0.57      1906\n",
      "           1       0.17      0.69      0.28       334\n",
      "\n",
      "    accuracy                           0.46      2240\n",
      "   macro avg       0.53      0.56      0.43      2240\n",
      "weighted avg       0.78      0.46      0.53      2240\n",
      "\n"
     ]
    }
   ],
   "source": [
    "print(confusion_matrix(data['Response'], sc_labels))\n",
    "print(classification_report(data['Response'], sc_labels))"
   ]
  },
  {
   "cell_type": "markdown",
   "id": "7f289ae4",
   "metadata": {},
   "source": [
    "Spectral Clustering yielding similar results to KMeans"
   ]
  },
  {
   "cell_type": "markdown",
   "id": "f7c54894",
   "metadata": {},
   "source": [
    "## MDS\n",
    "\n",
    "First normalize features"
   ]
  },
  {
   "cell_type": "code",
   "execution_count": 29,
   "id": "b1fa6cfd",
   "metadata": {},
   "outputs": [],
   "source": [
    "from sklearn.preprocessing import normalize"
   ]
  },
  {
   "cell_type": "code",
   "execution_count": 30,
   "id": "80e3e397",
   "metadata": {},
   "outputs": [
    {
     "data": {
      "text/html": [
       "<div>\n",
       "<style scoped>\n",
       "    .dataframe tbody tr th:only-of-type {\n",
       "        vertical-align: middle;\n",
       "    }\n",
       "\n",
       "    .dataframe tbody tr th {\n",
       "        vertical-align: top;\n",
       "    }\n",
       "\n",
       "    .dataframe thead th {\n",
       "        text-align: right;\n",
       "    }\n",
       "</style>\n",
       "<table border=\"1\" class=\"dataframe\">\n",
       "  <thead>\n",
       "    <tr style=\"text-align: right;\">\n",
       "      <th></th>\n",
       "      <th>Year_Birth</th>\n",
       "      <th>Income</th>\n",
       "      <th>Kidhome</th>\n",
       "      <th>Teenhome</th>\n",
       "      <th>Recency</th>\n",
       "      <th>MntWines</th>\n",
       "      <th>MntFruits</th>\n",
       "      <th>MntMeatProducts</th>\n",
       "      <th>MntFishProducts</th>\n",
       "      <th>MntSweetProducts</th>\n",
       "      <th>MntGoldProds</th>\n",
       "      <th>NumDealsPurchases</th>\n",
       "      <th>NumWebPurchases</th>\n",
       "      <th>NumCatalogPurchases</th>\n",
       "      <th>NumStorePurchases</th>\n",
       "      <th>NumWebVisitsMonth</th>\n",
       "      <th>Complain</th>\n",
       "      <th>Response</th>\n",
       "      <th>Days Enrolled</th>\n",
       "      <th>Education_Basic</th>\n",
       "      <th>Education_Graduation</th>\n",
       "      <th>Education_Master</th>\n",
       "      <th>Education_PhD</th>\n",
       "      <th>Marital_Status_Alone</th>\n",
       "      <th>Marital_Status_Divorced</th>\n",
       "      <th>Marital_Status_Married</th>\n",
       "      <th>Marital_Status_Single</th>\n",
       "      <th>Marital_Status_Together</th>\n",
       "      <th>Marital_Status_Widow</th>\n",
       "      <th>Marital_Status_YOLO</th>\n",
       "    </tr>\n",
       "  </thead>\n",
       "  <tbody>\n",
       "    <tr>\n",
       "      <th>0</th>\n",
       "      <td>0.033635</td>\n",
       "      <td>0.999216</td>\n",
       "      <td>0.000000</td>\n",
       "      <td>0.000000</td>\n",
       "      <td>0.000997</td>\n",
       "      <td>0.010914</td>\n",
       "      <td>0.001512</td>\n",
       "      <td>0.009384</td>\n",
       "      <td>0.002956</td>\n",
       "      <td>0.001512</td>\n",
       "      <td>0.001512</td>\n",
       "      <td>0.000052</td>\n",
       "      <td>0.000137</td>\n",
       "      <td>0.000172</td>\n",
       "      <td>0.000069</td>\n",
       "      <td>0.000120</td>\n",
       "      <td>0.0</td>\n",
       "      <td>0.000017</td>\n",
       "      <td>0.014592</td>\n",
       "      <td>0.0</td>\n",
       "      <td>0.000017</td>\n",
       "      <td>0.0</td>\n",
       "      <td>0.000000</td>\n",
       "      <td>0.0</td>\n",
       "      <td>0.0</td>\n",
       "      <td>0.000000</td>\n",
       "      <td>0.000017</td>\n",
       "      <td>0.000000</td>\n",
       "      <td>0.0</td>\n",
       "      <td>0.0</td>\n",
       "    </tr>\n",
       "    <tr>\n",
       "      <th>1</th>\n",
       "      <td>0.042125</td>\n",
       "      <td>0.999091</td>\n",
       "      <td>0.000022</td>\n",
       "      <td>0.000022</td>\n",
       "      <td>0.000819</td>\n",
       "      <td>0.000237</td>\n",
       "      <td>0.000022</td>\n",
       "      <td>0.000129</td>\n",
       "      <td>0.000043</td>\n",
       "      <td>0.000022</td>\n",
       "      <td>0.000129</td>\n",
       "      <td>0.000043</td>\n",
       "      <td>0.000022</td>\n",
       "      <td>0.000022</td>\n",
       "      <td>0.000043</td>\n",
       "      <td>0.000108</td>\n",
       "      <td>0.0</td>\n",
       "      <td>0.000000</td>\n",
       "      <td>0.006446</td>\n",
       "      <td>0.0</td>\n",
       "      <td>0.000022</td>\n",
       "      <td>0.0</td>\n",
       "      <td>0.000000</td>\n",
       "      <td>0.0</td>\n",
       "      <td>0.0</td>\n",
       "      <td>0.000000</td>\n",
       "      <td>0.000022</td>\n",
       "      <td>0.000000</td>\n",
       "      <td>0.0</td>\n",
       "      <td>0.0</td>\n",
       "    </tr>\n",
       "    <tr>\n",
       "      <th>2</th>\n",
       "      <td>0.027428</td>\n",
       "      <td>0.999579</td>\n",
       "      <td>0.000000</td>\n",
       "      <td>0.000000</td>\n",
       "      <td>0.000363</td>\n",
       "      <td>0.005946</td>\n",
       "      <td>0.000684</td>\n",
       "      <td>0.001773</td>\n",
       "      <td>0.001549</td>\n",
       "      <td>0.000293</td>\n",
       "      <td>0.000586</td>\n",
       "      <td>0.000014</td>\n",
       "      <td>0.000112</td>\n",
       "      <td>0.000028</td>\n",
       "      <td>0.000140</td>\n",
       "      <td>0.000056</td>\n",
       "      <td>0.0</td>\n",
       "      <td>0.000000</td>\n",
       "      <td>0.006951</td>\n",
       "      <td>0.0</td>\n",
       "      <td>0.000014</td>\n",
       "      <td>0.0</td>\n",
       "      <td>0.000000</td>\n",
       "      <td>0.0</td>\n",
       "      <td>0.0</td>\n",
       "      <td>0.000000</td>\n",
       "      <td>0.000000</td>\n",
       "      <td>0.000014</td>\n",
       "      <td>0.0</td>\n",
       "      <td>0.0</td>\n",
       "    </tr>\n",
       "    <tr>\n",
       "      <th>3</th>\n",
       "      <td>0.074247</td>\n",
       "      <td>0.997165</td>\n",
       "      <td>0.000037</td>\n",
       "      <td>0.000000</td>\n",
       "      <td>0.000973</td>\n",
       "      <td>0.000412</td>\n",
       "      <td>0.000150</td>\n",
       "      <td>0.000748</td>\n",
       "      <td>0.000374</td>\n",
       "      <td>0.000112</td>\n",
       "      <td>0.000187</td>\n",
       "      <td>0.000075</td>\n",
       "      <td>0.000075</td>\n",
       "      <td>0.000000</td>\n",
       "      <td>0.000150</td>\n",
       "      <td>0.000225</td>\n",
       "      <td>0.0</td>\n",
       "      <td>0.000000</td>\n",
       "      <td>0.012162</td>\n",
       "      <td>0.0</td>\n",
       "      <td>0.000037</td>\n",
       "      <td>0.0</td>\n",
       "      <td>0.000000</td>\n",
       "      <td>0.0</td>\n",
       "      <td>0.0</td>\n",
       "      <td>0.000000</td>\n",
       "      <td>0.000000</td>\n",
       "      <td>0.000037</td>\n",
       "      <td>0.0</td>\n",
       "      <td>0.0</td>\n",
       "    </tr>\n",
       "    <tr>\n",
       "      <th>4</th>\n",
       "      <td>0.033963</td>\n",
       "      <td>0.999397</td>\n",
       "      <td>0.000017</td>\n",
       "      <td>0.000000</td>\n",
       "      <td>0.001612</td>\n",
       "      <td>0.002966</td>\n",
       "      <td>0.000737</td>\n",
       "      <td>0.002023</td>\n",
       "      <td>0.000789</td>\n",
       "      <td>0.000463</td>\n",
       "      <td>0.000257</td>\n",
       "      <td>0.000086</td>\n",
       "      <td>0.000086</td>\n",
       "      <td>0.000051</td>\n",
       "      <td>0.000103</td>\n",
       "      <td>0.000086</td>\n",
       "      <td>0.0</td>\n",
       "      <td>0.000000</td>\n",
       "      <td>0.005949</td>\n",
       "      <td>0.0</td>\n",
       "      <td>0.000000</td>\n",
       "      <td>0.0</td>\n",
       "      <td>0.000017</td>\n",
       "      <td>0.0</td>\n",
       "      <td>0.0</td>\n",
       "      <td>0.000017</td>\n",
       "      <td>0.000000</td>\n",
       "      <td>0.000000</td>\n",
       "      <td>0.0</td>\n",
       "      <td>0.0</td>\n",
       "    </tr>\n",
       "  </tbody>\n",
       "</table>\n",
       "</div>"
      ],
      "text/plain": [
       "   Year_Birth    Income   Kidhome  Teenhome   Recency  MntWines  MntFruits  \\\n",
       "0    0.033635  0.999216  0.000000  0.000000  0.000997  0.010914   0.001512   \n",
       "1    0.042125  0.999091  0.000022  0.000022  0.000819  0.000237   0.000022   \n",
       "2    0.027428  0.999579  0.000000  0.000000  0.000363  0.005946   0.000684   \n",
       "3    0.074247  0.997165  0.000037  0.000000  0.000973  0.000412   0.000150   \n",
       "4    0.033963  0.999397  0.000017  0.000000  0.001612  0.002966   0.000737   \n",
       "\n",
       "   MntMeatProducts  MntFishProducts  MntSweetProducts  MntGoldProds  \\\n",
       "0         0.009384         0.002956          0.001512      0.001512   \n",
       "1         0.000129         0.000043          0.000022      0.000129   \n",
       "2         0.001773         0.001549          0.000293      0.000586   \n",
       "3         0.000748         0.000374          0.000112      0.000187   \n",
       "4         0.002023         0.000789          0.000463      0.000257   \n",
       "\n",
       "   NumDealsPurchases  NumWebPurchases  NumCatalogPurchases  NumStorePurchases  \\\n",
       "0           0.000052         0.000137             0.000172           0.000069   \n",
       "1           0.000043         0.000022             0.000022           0.000043   \n",
       "2           0.000014         0.000112             0.000028           0.000140   \n",
       "3           0.000075         0.000075             0.000000           0.000150   \n",
       "4           0.000086         0.000086             0.000051           0.000103   \n",
       "\n",
       "   NumWebVisitsMonth  Complain  Response  Days Enrolled  Education_Basic  \\\n",
       "0           0.000120       0.0  0.000017       0.014592              0.0   \n",
       "1           0.000108       0.0  0.000000       0.006446              0.0   \n",
       "2           0.000056       0.0  0.000000       0.006951              0.0   \n",
       "3           0.000225       0.0  0.000000       0.012162              0.0   \n",
       "4           0.000086       0.0  0.000000       0.005949              0.0   \n",
       "\n",
       "   Education_Graduation  Education_Master  Education_PhD  \\\n",
       "0              0.000017               0.0       0.000000   \n",
       "1              0.000022               0.0       0.000000   \n",
       "2              0.000014               0.0       0.000000   \n",
       "3              0.000037               0.0       0.000000   \n",
       "4              0.000000               0.0       0.000017   \n",
       "\n",
       "   Marital_Status_Alone  Marital_Status_Divorced  Marital_Status_Married  \\\n",
       "0                   0.0                      0.0                0.000000   \n",
       "1                   0.0                      0.0                0.000000   \n",
       "2                   0.0                      0.0                0.000000   \n",
       "3                   0.0                      0.0                0.000000   \n",
       "4                   0.0                      0.0                0.000017   \n",
       "\n",
       "   Marital_Status_Single  Marital_Status_Together  Marital_Status_Widow  \\\n",
       "0               0.000017                 0.000000                   0.0   \n",
       "1               0.000022                 0.000000                   0.0   \n",
       "2               0.000000                 0.000014                   0.0   \n",
       "3               0.000000                 0.000037                   0.0   \n",
       "4               0.000000                 0.000000                   0.0   \n",
       "\n",
       "   Marital_Status_YOLO  \n",
       "0                  0.0  \n",
       "1                  0.0  \n",
       "2                  0.0  \n",
       "3                  0.0  \n",
       "4                  0.0  "
      ]
     },
     "execution_count": 30,
     "metadata": {},
     "output_type": "execute_result"
    }
   ],
   "source": [
    "norm_features = normalize(data)\n",
    "\n",
    "norm_data = pd.DataFrame(norm_features, columns = data.columns)\n",
    "norm_data.head()"
   ]
  },
  {
   "cell_type": "code",
   "execution_count": 31,
   "id": "f6fd49ad",
   "metadata": {},
   "outputs": [],
   "source": [
    "from sklearn.manifold import MDS"
   ]
  },
  {
   "cell_type": "code",
   "execution_count": 32,
   "id": "d3845f1e",
   "metadata": {},
   "outputs": [],
   "source": [
    "model = MDS(n_components = 2, random_state = 42)\n",
    "data_transformed = model.fit_transform(norm_data.drop('Response', axis = 1))"
   ]
  },
  {
   "cell_type": "code",
   "execution_count": 33,
   "id": "7699296b",
   "metadata": {},
   "outputs": [
    {
     "data": {
      "text/plain": [
       "array([[-0.01450418,  0.01188416],\n",
       "       [ 0.00315616,  0.00827358],\n",
       "       [-0.00732553,  0.02075406],\n",
       "       ...,\n",
       "       [-0.01478409,  0.01336632],\n",
       "       [-0.00623745,  0.02121685],\n",
       "       [-0.00780408,  0.00749149]])"
      ]
     },
     "execution_count": 33,
     "metadata": {},
     "output_type": "execute_result"
    }
   ],
   "source": [
    "data_transformed"
   ]
  },
  {
   "cell_type": "code",
   "execution_count": 34,
   "id": "cf10e8ab",
   "metadata": {},
   "outputs": [
    {
     "name": "stdout",
     "output_type": "stream",
     "text": [
      "Original shape: (2240, 29)\n",
      "Reduced shape: (2240, 2)\n"
     ]
    }
   ],
   "source": [
    "print(\"Original shape: {}\".format(str(data.drop('Response', axis = 1).shape)))\n",
    "print(\"Reduced shape: {}\".format(str(data_transformed.shape)))"
   ]
  },
  {
   "cell_type": "markdown",
   "id": "7ad8420c",
   "metadata": {},
   "source": [
    "## MDS Model Building with KMeans"
   ]
  },
  {
   "cell_type": "code",
   "execution_count": 35,
   "id": "a9a3c4ea",
   "metadata": {},
   "outputs": [],
   "source": [
    "# now do k-means clustering on this 2-dim data (I'll just choose a random number of clusters, say 2)\n",
    "kmeans = KMeans(n_clusters=2) \n",
    "kmeans.fit(data_transformed)\n",
    "y_kmeans = kmeans.predict(data_transformed)"
   ]
  },
  {
   "cell_type": "code",
   "execution_count": 36,
   "id": "d4d0093d",
   "metadata": {},
   "outputs": [
    {
     "data": {
      "text/plain": [
       "<matplotlib.collections.PathCollection at 0x286ce7b5d60>"
      ]
     },
     "execution_count": 36,
     "metadata": {},
     "output_type": "execute_result"
    },
    {
     "data": {
      "image/png": "[encoded data removed]",
      "text/plain": [
       "<Figure size 432x288 with 1 Axes>"
      ]
     },
     "metadata": {
      "needs_background": "light"
     },
     "output_type": "display_data"
    }
   ],
   "source": [
    "plt.scatter(data_transformed[:, 0], data_transformed[:, 1], c=y_kmeans, s=50, cmap='viridis')"
   ]
  },
  {
   "cell_type": "code",
   "execution_count": 37,
   "id": "3aab6f72",
   "metadata": {},
   "outputs": [
    {
     "name": "stdout",
     "output_type": "stream",
     "text": [
      "[[1873   33]\n",
      " [ 331    3]]\n",
      "              precision    recall  f1-score   support\n",
      "\n",
      "           0       0.85      0.98      0.91      1906\n",
      "           1       0.08      0.01      0.02       334\n",
      "\n",
      "    accuracy                           0.84      2240\n",
      "   macro avg       0.47      0.50      0.46      2240\n",
      "weighted avg       0.74      0.84      0.78      2240\n",
      "\n"
     ]
    }
   ],
   "source": [
    "print(confusion_matrix(data['Response'], y_kmeans))\n",
    "print(classification_report(data['Response'], y_kmeans))"
   ]
  },
  {
   "cell_type": "markdown",
   "id": "abe350f8",
   "metadata": {},
   "source": [
    "Pretty decent results"
   ]
  },
  {
   "cell_type": "markdown",
   "id": "53da45e1",
   "metadata": {},
   "source": [
    "## MDS Model Building with Spectral Clustering"
   ]
  },
  {
   "cell_type": "code",
   "execution_count": 38,
   "id": "c7b19a05",
   "metadata": {},
   "outputs": [],
   "source": [
    "model = SpectralClustering(n_clusters = 2, affinity = 'nearest_neighbors', assign_labels = 'kmeans')\n",
    "sc_labels = model.fit_predict(data_transformed)"
   ]
  },
  {
   "cell_type": "code",
   "execution_count": 39,
   "id": "114f09fe",
   "metadata": {},
   "outputs": [
    {
     "data": {
      "text/plain": [
       "<matplotlib.collections.PathCollection at 0x286ce82e400>"
      ]
     },
     "execution_count": 39,
     "metadata": {},
     "output_type": "execute_result"
    },
    {
     "data": {
      "image/png": "[encoded data removed]",
      "text/plain": [
       "<Figure size 432x288 with 1 Axes>"
      ]
     },
     "metadata": {
      "needs_background": "light"
     },
     "output_type": "display_data"
    }
   ],
   "source": [
    "plt.scatter(data_transformed[:, 0], data_transformed[:, 1], c=sc_labels, s=50, cmap='viridis')"
   ]
  },
  {
   "cell_type": "code",
   "execution_count": 40,
   "id": "ae4f38d2",
   "metadata": {},
   "outputs": [
    {
     "name": "stdout",
     "output_type": "stream",
     "text": [
      "[[1252  654]\n",
      " [ 248   86]]\n",
      "              precision    recall  f1-score   support\n",
      "\n",
      "           0       0.83      0.66      0.74      1906\n",
      "           1       0.12      0.26      0.16       334\n",
      "\n",
      "    accuracy                           0.60      2240\n",
      "   macro avg       0.48      0.46      0.45      2240\n",
      "weighted avg       0.73      0.60      0.65      2240\n",
      "\n"
     ]
    }
   ],
   "source": [
    "print(confusion_matrix(data['Response'], sc_labels))\n",
    "print(classification_report(data['Response'], sc_labels))"
   ]
  },
  {
   "cell_type": "markdown",
   "id": "889d8429",
   "metadata": {},
   "source": [
    "Results are not as great here."
   ]
  },
  {
   "cell_type": "markdown",
   "id": "00882c0a",
   "metadata": {},
   "source": [
    "## PCA"
   ]
  },
  {
   "cell_type": "code",
   "execution_count": 41,
   "id": "64a37e7e",
   "metadata": {},
   "outputs": [],
   "source": [
    "from sklearn.decomposition import PCA"
   ]
  },
  {
   "cell_type": "code",
   "execution_count": 42,
   "id": "a8ca6e80",
   "metadata": {},
   "outputs": [
    {
     "name": "stdout",
     "output_type": "stream",
     "text": [
      "Original shape: (2240, 29)\n",
      "Reduced shape: (2240, 2)\n"
     ]
    }
   ],
   "source": [
    "# keep the first 2 principal components of the data\n",
    "pca = PCA(n_components = 2)\n",
    "# fit PCA model to data\n",
    "pca.fit(norm_data.drop('Response', axis = 1))\n",
    "# transform data onto the first two principal components\n",
    "market_pca = pca.transform(norm_data.drop('Response', axis = 1))\n",
    "print(\"Original shape: {}\".format(str(norm_data.drop('Response', axis = 1).shape)))\n",
    "print(\"Reduced shape: {}\".format(str(market_pca.shape)))"
   ]
  },
  {
   "cell_type": "markdown",
   "id": "d5d1c773",
   "metadata": {},
   "source": [
    "## PCA Model building with KMeans"
   ]
  },
  {
   "cell_type": "code",
   "execution_count": 43,
   "id": "75bc8dcd",
   "metadata": {},
   "outputs": [],
   "source": [
    "# now do k-means clustering on this 2-dim data (I'll just choose a random number of clusters, say 2)\n",
    "kmeans = KMeans(n_clusters=2) \n",
    "kmeans.fit(market_pca)\n",
    "y_kmeans = kmeans.predict(market_pca)"
   ]
  },
  {
   "cell_type": "code",
   "execution_count": 44,
   "id": "d67f099a",
   "metadata": {},
   "outputs": [
    {
     "data": {
      "text/plain": [
       "<matplotlib.collections.PathCollection at 0x286ce88cd30>"
      ]
     },
     "execution_count": 44,
     "metadata": {},
     "output_type": "execute_result"
    },
    {
     "data": {
      "image/png": "[encoded data removed]",
      "text/plain": [
       "<Figure size 432x288 with 1 Axes>"
      ]
     },
     "metadata": {
      "needs_background": "light"
     },
     "output_type": "display_data"
    }
   ],
   "source": [
    "plt.scatter(market_pca[:, 0], market_pca[:, 1], c=y_kmeans, s=50, cmap='viridis')"
   ]
  },
  {
   "cell_type": "code",
   "execution_count": 45,
   "id": "315454f8",
   "metadata": {},
   "outputs": [
    {
     "name": "stdout",
     "output_type": "stream",
     "text": [
      "[[1877   29]\n",
      " [ 331    3]]\n",
      "              precision    recall  f1-score   support\n",
      "\n",
      "           0       0.85      0.98      0.91      1906\n",
      "           1       0.09      0.01      0.02       334\n",
      "\n",
      "    accuracy                           0.84      2240\n",
      "   macro avg       0.47      0.50      0.46      2240\n",
      "weighted avg       0.74      0.84      0.78      2240\n",
      "\n"
     ]
    }
   ],
   "source": [
    "print(confusion_matrix(data['Response'], y_kmeans))\n",
    "print(classification_report(data['Response'], y_kmeans))"
   ]
  },
  {
   "cell_type": "markdown",
   "id": "a31b104d",
   "metadata": {},
   "source": [
    "Results are actually pretty decent here. Identical with MDS with KMeans"
   ]
  },
  {
   "cell_type": "markdown",
   "id": "9a1b5cae",
   "metadata": {},
   "source": [
    "## PCA Model Building with Spectral Clustering"
   ]
  },
  {
   "cell_type": "code",
   "execution_count": 46,
   "id": "6598a09e",
   "metadata": {},
   "outputs": [],
   "source": [
    "model = SpectralClustering(n_clusters = 2, affinity = 'nearest_neighbors', assign_labels = 'kmeans')\n",
    "sc_labels = model.fit_predict(market_pca)"
   ]
  },
  {
   "cell_type": "code",
   "execution_count": 47,
   "id": "a7b60d22",
   "metadata": {},
   "outputs": [
    {
     "data": {
      "text/plain": [
       "<matplotlib.collections.PathCollection at 0x286ce8f1340>"
      ]
     },
     "execution_count": 47,
     "metadata": {},
     "output_type": "execute_result"
    },
    {
     "data": {
      "image/png": "[encoded data removed]",
      "text/plain": [
       "<Figure size 432x288 with 1 Axes>"
      ]
     },
     "metadata": {
      "needs_background": "light"
     },
     "output_type": "display_data"
    }
   ],
   "source": [
    "plt.scatter(market_pca[:, 0], market_pca[:, 1], c=sc_labels, s=50, cmap='viridis')"
   ]
  },
  {
   "cell_type": "code",
   "execution_count": 48,
   "id": "5a73dba0",
   "metadata": {},
   "outputs": [
    {
     "name": "stdout",
     "output_type": "stream",
     "text": [
      "[[1507  399]\n",
      " [ 288   46]]\n",
      "              precision    recall  f1-score   support\n",
      "\n",
      "           0       0.84      0.79      0.81      1906\n",
      "           1       0.10      0.14      0.12       334\n",
      "\n",
      "    accuracy                           0.69      2240\n",
      "   macro avg       0.47      0.46      0.47      2240\n",
      "weighted avg       0.73      0.69      0.71      2240\n",
      "\n"
     ]
    }
   ],
   "source": [
    "print(confusion_matrix(data['Response'], sc_labels))\n",
    "print(classification_report(data['Response'], sc_labels))"
   ]
  },
  {
   "cell_type": "markdown",
   "id": "1b4bb3f6",
   "metadata": {},
   "source": [
    "Results are worse than PCA with KMeans"
   ]
  },
  {
   "cell_type": "markdown",
   "id": "b5f0302a",
   "metadata": {},
   "source": [
    "# Supervised Learning"
   ]
  },
  {
   "cell_type": "code",
   "execution_count": 49,
   "id": "d4cf550d",
   "metadata": {},
   "outputs": [],
   "source": [
    "from sklearn.model_selection import train_test_split"
   ]
  },
  {
   "cell_type": "code",
   "execution_count": 50,
   "id": "a9772d36",
   "metadata": {},
   "outputs": [],
   "source": [
    "X = data.drop('Response', axis = 1)\n",
    "y = data['Response']\n",
    "X_trainval, X_test, y_trainval, y_test = train_test_split(X,y, test_size = 0.1, random_state = 42)\n",
    "X_train, X_val, y_train, y_val = train_test_split(X_trainval, y_trainval, test_size = 0.1, random_state = 42)"
   ]
  },
  {
   "cell_type": "markdown",
   "id": "afce8e5e",
   "metadata": {},
   "source": [
    "## Logistic Regression"
   ]
  },
  {
   "cell_type": "code",
   "execution_count": 51,
   "id": "d5e2656d",
   "metadata": {},
   "outputs": [],
   "source": [
    "from sklearn.linear_model import LogisticRegression"
   ]
  },
  {
   "cell_type": "code",
   "execution_count": 52,
   "id": "069d8f99",
   "metadata": {},
   "outputs": [],
   "source": [
    "log_model = LogisticRegression(max_iter = 3000)\n",
    "log_model.fit(X_train, y_train)\n",
    "log_predictions = log_model.predict(X_val)"
   ]
  },
  {
   "cell_type": "markdown",
   "id": "c9de2f86",
   "metadata": {},
   "source": [
    "## KNN"
   ]
  },
  {
   "cell_type": "code",
   "execution_count": 53,
   "id": "4b4ee985",
   "metadata": {},
   "outputs": [],
   "source": [
    "from sklearn.preprocessing import StandardScaler\n",
    "from sklearn.model_selection import GridSearchCV\n",
    "from sklearn.neighbors import KNeighborsClassifier"
   ]
  },
  {
   "cell_type": "code",
   "execution_count": 54,
   "id": "1044a3de",
   "metadata": {},
   "outputs": [
    {
     "data": {
      "text/html": [
       "<div>\n",
       "<style scoped>\n",
       "    .dataframe tbody tr th:only-of-type {\n",
       "        vertical-align: middle;\n",
       "    }\n",
       "\n",
       "    .dataframe tbody tr th {\n",
       "        vertical-align: top;\n",
       "    }\n",
       "\n",
       "    .dataframe thead th {\n",
       "        text-align: right;\n",
       "    }\n",
       "</style>\n",
       "<table border=\"1\" class=\"dataframe\">\n",
       "  <thead>\n",
       "    <tr style=\"text-align: right;\">\n",
       "      <th></th>\n",
       "      <th>Year_Birth</th>\n",
       "      <th>Income</th>\n",
       "      <th>Kidhome</th>\n",
       "      <th>Teenhome</th>\n",
       "      <th>Recency</th>\n",
       "      <th>MntWines</th>\n",
       "      <th>MntFruits</th>\n",
       "      <th>MntMeatProducts</th>\n",
       "      <th>MntFishProducts</th>\n",
       "      <th>MntSweetProducts</th>\n",
       "      <th>MntGoldProds</th>\n",
       "      <th>NumDealsPurchases</th>\n",
       "      <th>NumWebPurchases</th>\n",
       "      <th>NumCatalogPurchases</th>\n",
       "      <th>NumStorePurchases</th>\n",
       "      <th>NumWebVisitsMonth</th>\n",
       "      <th>Complain</th>\n",
       "      <th>Days Enrolled</th>\n",
       "      <th>Education_Basic</th>\n",
       "      <th>Education_Graduation</th>\n",
       "      <th>Education_Master</th>\n",
       "      <th>Education_PhD</th>\n",
       "      <th>Marital_Status_Alone</th>\n",
       "      <th>Marital_Status_Divorced</th>\n",
       "      <th>Marital_Status_Married</th>\n",
       "      <th>Marital_Status_Single</th>\n",
       "      <th>Marital_Status_Together</th>\n",
       "      <th>Marital_Status_Widow</th>\n",
       "      <th>Marital_Status_YOLO</th>\n",
       "    </tr>\n",
       "  </thead>\n",
       "  <tbody>\n",
       "    <tr>\n",
       "      <th>0</th>\n",
       "      <td>0.423000</td>\n",
       "      <td>-0.683282</td>\n",
       "      <td>1.040271</td>\n",
       "      <td>-0.927498</td>\n",
       "      <td>-0.029722</td>\n",
       "      <td>-0.848246</td>\n",
       "      <td>-0.660358</td>\n",
       "      <td>-0.724413</td>\n",
       "      <td>-0.687753</td>\n",
       "      <td>-0.655600</td>\n",
       "      <td>-0.705130</td>\n",
       "      <td>-0.666067</td>\n",
       "      <td>-1.105854</td>\n",
       "      <td>-0.894079</td>\n",
       "      <td>-1.156892</td>\n",
       "      <td>1.108054</td>\n",
       "      <td>-0.100111</td>\n",
       "      <td>0.442855</td>\n",
       "      <td>-0.157667</td>\n",
       "      <td>-1.006637</td>\n",
       "      <td>-0.442472</td>\n",
       "      <td>1.883180</td>\n",
       "      <td>-0.040701</td>\n",
       "      <td>-0.334964</td>\n",
       "      <td>1.254213</td>\n",
       "      <td>-0.525895</td>\n",
       "      <td>-0.587111</td>\n",
       "      <td>-0.189682</td>\n",
       "      <td>-0.023486</td>\n",
       "    </tr>\n",
       "    <tr>\n",
       "      <th>1</th>\n",
       "      <td>0.506305</td>\n",
       "      <td>-1.250669</td>\n",
       "      <td>1.040271</td>\n",
       "      <td>-0.927498</td>\n",
       "      <td>-0.863476</td>\n",
       "      <td>-0.883832</td>\n",
       "      <td>-0.536106</td>\n",
       "      <td>-0.693402</td>\n",
       "      <td>-0.168050</td>\n",
       "      <td>-0.511886</td>\n",
       "      <td>-0.295291</td>\n",
       "      <td>0.361790</td>\n",
       "      <td>-0.739725</td>\n",
       "      <td>-0.562749</td>\n",
       "      <td>-0.850616</td>\n",
       "      <td>-0.112600</td>\n",
       "      <td>-0.100111</td>\n",
       "      <td>-0.652320</td>\n",
       "      <td>-0.157667</td>\n",
       "      <td>-1.006637</td>\n",
       "      <td>-0.442472</td>\n",
       "      <td>-0.531017</td>\n",
       "      <td>-0.040701</td>\n",
       "      <td>-0.334964</td>\n",
       "      <td>-0.797313</td>\n",
       "      <td>-0.525895</td>\n",
       "      <td>1.703254</td>\n",
       "      <td>-0.189682</td>\n",
       "      <td>-0.023486</td>\n",
       "    </tr>\n",
       "    <tr>\n",
       "      <th>2</th>\n",
       "      <td>1.339354</td>\n",
       "      <td>-0.727042</td>\n",
       "      <td>1.040271</td>\n",
       "      <td>-0.927498</td>\n",
       "      <td>-0.585558</td>\n",
       "      <td>-0.664381</td>\n",
       "      <td>-0.411854</td>\n",
       "      <td>-0.485185</td>\n",
       "      <td>-0.632071</td>\n",
       "      <td>-0.631648</td>\n",
       "      <td>-0.392872</td>\n",
       "      <td>-0.152139</td>\n",
       "      <td>-0.007468</td>\n",
       "      <td>-0.894079</td>\n",
       "      <td>-0.544340</td>\n",
       "      <td>1.108054</td>\n",
       "      <td>-0.100111</td>\n",
       "      <td>0.318966</td>\n",
       "      <td>-0.157667</td>\n",
       "      <td>-1.006637</td>\n",
       "      <td>-0.442472</td>\n",
       "      <td>1.883180</td>\n",
       "      <td>-0.040701</td>\n",
       "      <td>-0.334964</td>\n",
       "      <td>1.254213</td>\n",
       "      <td>-0.525895</td>\n",
       "      <td>-0.587111</td>\n",
       "      <td>-0.189682</td>\n",
       "      <td>-0.023486</td>\n",
       "    </tr>\n",
       "    <tr>\n",
       "      <th>3</th>\n",
       "      <td>0.256390</td>\n",
       "      <td>-0.530696</td>\n",
       "      <td>1.040271</td>\n",
       "      <td>0.923417</td>\n",
       "      <td>-1.627751</td>\n",
       "      <td>-0.777072</td>\n",
       "      <td>-0.560956</td>\n",
       "      <td>-0.635810</td>\n",
       "      <td>-0.632071</td>\n",
       "      <td>-0.583743</td>\n",
       "      <td>-0.783194</td>\n",
       "      <td>0.361790</td>\n",
       "      <td>-0.373597</td>\n",
       "      <td>-0.894079</td>\n",
       "      <td>-0.850616</td>\n",
       "      <td>1.108054</td>\n",
       "      <td>-0.100111</td>\n",
       "      <td>0.095967</td>\n",
       "      <td>-0.157667</td>\n",
       "      <td>-1.006637</td>\n",
       "      <td>-0.442472</td>\n",
       "      <td>1.883180</td>\n",
       "      <td>-0.040701</td>\n",
       "      <td>-0.334964</td>\n",
       "      <td>-0.797313</td>\n",
       "      <td>1.901519</td>\n",
       "      <td>-0.587111</td>\n",
       "      <td>-0.189682</td>\n",
       "      <td>-0.023486</td>\n",
       "    </tr>\n",
       "    <tr>\n",
       "      <th>4</th>\n",
       "      <td>1.089440</td>\n",
       "      <td>0.545527</td>\n",
       "      <td>-0.828097</td>\n",
       "      <td>-0.927498</td>\n",
       "      <td>1.012470</td>\n",
       "      <td>0.290526</td>\n",
       "      <td>1.725282</td>\n",
       "      <td>1.247005</td>\n",
       "      <td>3.395629</td>\n",
       "      <td>1.643827</td>\n",
       "      <td>-0.217227</td>\n",
       "      <td>-0.666067</td>\n",
       "      <td>0.358661</td>\n",
       "      <td>1.425229</td>\n",
       "      <td>0.068211</td>\n",
       "      <td>-0.926369</td>\n",
       "      <td>-0.100111</td>\n",
       "      <td>1.433963</td>\n",
       "      <td>-0.157667</td>\n",
       "      <td>-1.006637</td>\n",
       "      <td>-0.442472</td>\n",
       "      <td>-0.531017</td>\n",
       "      <td>-0.040701</td>\n",
       "      <td>-0.334964</td>\n",
       "      <td>-0.797313</td>\n",
       "      <td>-0.525895</td>\n",
       "      <td>1.703254</td>\n",
       "      <td>-0.189682</td>\n",
       "      <td>-0.023486</td>\n",
       "    </tr>\n",
       "  </tbody>\n",
       "</table>\n",
       "</div>"
      ],
      "text/plain": [
       "   Year_Birth    Income   Kidhome  Teenhome   Recency  MntWines  MntFruits  \\\n",
       "0    0.423000 -0.683282  1.040271 -0.927498 -0.029722 -0.848246  -0.660358   \n",
       "1    0.506305 -1.250669  1.040271 -0.927498 -0.863476 -0.883832  -0.536106   \n",
       "2    1.339354 -0.727042  1.040271 -0.927498 -0.585558 -0.664381  -0.411854   \n",
       "3    0.256390 -0.530696  1.040271  0.923417 -1.627751 -0.777072  -0.560956   \n",
       "4    1.089440  0.545527 -0.828097 -0.927498  1.012470  0.290526   1.725282   \n",
       "\n",
       "   MntMeatProducts  MntFishProducts  MntSweetProducts  MntGoldProds  \\\n",
       "0        -0.724413        -0.687753         -0.655600     -0.705130   \n",
       "1        -0.693402        -0.168050         -0.511886     -0.295291   \n",
       "2        -0.485185        -0.632071         -0.631648     -0.392872   \n",
       "3        -0.635810        -0.632071         -0.583743     -0.783194   \n",
       "4         1.247005         3.395629          1.643827     -0.217227   \n",
       "\n",
       "   NumDealsPurchases  NumWebPurchases  NumCatalogPurchases  NumStorePurchases  \\\n",
       "0          -0.666067        -1.105854            -0.894079          -1.156892   \n",
       "1           0.361790        -0.739725            -0.562749          -0.850616   \n",
       "2          -0.152139        -0.007468            -0.894079          -0.544340   \n",
       "3           0.361790        -0.373597            -0.894079          -0.850616   \n",
       "4          -0.666067         0.358661             1.425229           0.068211   \n",
       "\n",
       "   NumWebVisitsMonth  Complain  Days Enrolled  Education_Basic  \\\n",
       "0           1.108054 -0.100111       0.442855        -0.157667   \n",
       "1          -0.112600 -0.100111      -0.652320        -0.157667   \n",
       "2           1.108054 -0.100111       0.318966        -0.157667   \n",
       "3           1.108054 -0.100111       0.095967        -0.157667   \n",
       "4          -0.926369 -0.100111       1.433963        -0.157667   \n",
       "\n",
       "   Education_Graduation  Education_Master  Education_PhD  \\\n",
       "0             -1.006637         -0.442472       1.883180   \n",
       "1             -1.006637         -0.442472      -0.531017   \n",
       "2             -1.006637         -0.442472       1.883180   \n",
       "3             -1.006637         -0.442472       1.883180   \n",
       "4             -1.006637         -0.442472      -0.531017   \n",
       "\n",
       "   Marital_Status_Alone  Marital_Status_Divorced  Marital_Status_Married  \\\n",
       "0             -0.040701                -0.334964                1.254213   \n",
       "1             -0.040701                -0.334964               -0.797313   \n",
       "2             -0.040701                -0.334964                1.254213   \n",
       "3             -0.040701                -0.334964               -0.797313   \n",
       "4             -0.040701                -0.334964               -0.797313   \n",
       "\n",
       "   Marital_Status_Single  Marital_Status_Together  Marital_Status_Widow  \\\n",
       "0              -0.525895                -0.587111             -0.189682   \n",
       "1              -0.525895                 1.703254             -0.189682   \n",
       "2              -0.525895                -0.587111             -0.189682   \n",
       "3               1.901519                -0.587111             -0.189682   \n",
       "4              -0.525895                 1.703254             -0.189682   \n",
       "\n",
       "   Marital_Status_YOLO  \n",
       "0            -0.023486  \n",
       "1            -0.023486  \n",
       "2            -0.023486  \n",
       "3            -0.023486  \n",
       "4            -0.023486  "
      ]
     },
     "execution_count": 54,
     "metadata": {},
     "output_type": "execute_result"
    }
   ],
   "source": [
    "scaler = StandardScaler()\n",
    "scaler.fit(X_train) # fit to data, not the target class\n",
    "scaled_features = scaler.transform(X_train)\n",
    "\n",
    "X_tr_scaled = pd.DataFrame(scaled_features, columns = X_train.columns)\n",
    "X_tr_scaled.head()"
   ]
  },
  {
   "cell_type": "code",
   "execution_count": 55,
   "id": "6db87aab",
   "metadata": {},
   "outputs": [
    {
     "data": {
      "text/plain": [
       "GridSearchCV(estimator=KNeighborsClassifier(),\n",
       "             param_grid={'n_neighbors': array([ 1,  2,  3,  4,  5,  6,  7,  8,  9, 10, 11, 12, 13, 14, 15, 16, 17,\n",
       "       18, 19, 20, 21, 22, 23, 24, 25, 26, 27, 28, 29, 30, 31, 32, 33, 34,\n",
       "       35, 36, 37, 38, 39])},\n",
       "             return_train_score=True)"
      ]
     },
     "execution_count": 55,
     "metadata": {},
     "output_type": "execute_result"
    }
   ],
   "source": [
    "param_grid = {'n_neighbors': np.arange(1,40)}\n",
    "grid = GridSearchCV(KNeighborsClassifier(), param_grid = param_grid, return_train_score = True)\n",
    "grid.fit(X_tr_scaled, y_train)"
   ]
  },
  {
   "cell_type": "code",
   "execution_count": 56,
   "id": "9550dba7",
   "metadata": {},
   "outputs": [
    {
     "name": "stdout",
     "output_type": "stream",
     "text": [
      "Best mean cross-validation score: 0.8594295542060484\n",
      "Best parameters: {'n_neighbors': 9}\n",
      "Test-set score: 0.821\n"
     ]
    }
   ],
   "source": [
    "print(f\"Best mean cross-validation score: {grid.best_score_}\")\n",
    "print(f\"Best parameters: {grid.best_params_}\")\n",
    "print(f\"Test-set score: {grid.score(X_test, y_test):.3f}\")"
   ]
  },
  {
   "cell_type": "code",
   "execution_count": 57,
   "id": "1912412b",
   "metadata": {},
   "outputs": [],
   "source": [
    "scaled_val_features = scaler.transform(X_val)\n",
    "knn_model = KNeighborsClassifier(n_neighbors = grid.best_params_.get('n_neighbors'))\n",
    "knn_model.fit(X_tr_scaled, y_train)\n",
    "knn_predictions = knn_model.predict(scaled_val_features)"
   ]
  },
  {
   "cell_type": "markdown",
   "id": "7b39b439",
   "metadata": {},
   "source": [
    "## SVM"
   ]
  },
  {
   "cell_type": "code",
   "execution_count": 58,
   "id": "4603b6ff",
   "metadata": {},
   "outputs": [],
   "source": [
    "from sklearn import svm"
   ]
  },
  {
   "cell_type": "code",
   "execution_count": 59,
   "id": "39d28cef",
   "metadata": {},
   "outputs": [
    {
     "data": {
      "text/plain": [
       "GridSearchCV(estimator=SVC(),\n",
       "             param_grid={'C': [10, 1, 0.1, 0.01, 0.001, 0.0001, 1e-05]},\n",
       "             return_train_score=True)"
      ]
     },
     "execution_count": 59,
     "metadata": {},
     "output_type": "execute_result"
    }
   ],
   "source": [
    "param_grid = {'C': [10, 1, 0.1, 0.01, 0.001, 0.0001, 0.00001]}\n",
    "grid = GridSearchCV(svm.SVC(), param_grid = param_grid, return_train_score = True)\n",
    "grid.fit(X_tr_scaled, y_train)"
   ]
  },
  {
   "cell_type": "code",
   "execution_count": 60,
   "id": "29688848",
   "metadata": {},
   "outputs": [
    {
     "name": "stdout",
     "output_type": "stream",
     "text": [
      "Best mean cross-validation score: 0.8654901602666545\n",
      "Best parameters: {'C': 1}\n",
      "Test-set score: 0.821\n"
     ]
    }
   ],
   "source": [
    "print(f\"Best mean cross-validation score: {grid.best_score_}\")\n",
    "print(f\"Best parameters: {grid.best_params_}\")\n",
    "print(f\"Test-set score: {grid.score(X_test, y_test):.3f}\")"
   ]
  },
  {
   "cell_type": "code",
   "execution_count": 61,
   "id": "e781d4c8",
   "metadata": {},
   "outputs": [],
   "source": [
    "svm_model = svm.SVC(C = grid.best_params_.get('C'))\n",
    "svm_model.fit(X_tr_scaled, y_train)\n",
    "svm_predictions = svm_model.predict(scaled_val_features)"
   ]
  },
  {
   "cell_type": "markdown",
   "id": "2f11f538",
   "metadata": {},
   "source": [
    "## Decision Trees and Random Forests"
   ]
  },
  {
   "cell_type": "code",
   "execution_count": 62,
   "id": "31afa0eb",
   "metadata": {},
   "outputs": [],
   "source": [
    "from sklearn.tree import DecisionTreeClassifier"
   ]
  },
  {
   "cell_type": "code",
   "execution_count": 63,
   "id": "a67aaa4a",
   "metadata": {},
   "outputs": [],
   "source": [
    "dtree = DecisionTreeClassifier()\n",
    "dtree.fit(X_train, y_train)\n",
    "dtree_predictions = dtree.predict(X_val)"
   ]
  },
  {
   "cell_type": "code",
   "execution_count": 64,
   "id": "7fb3a3d9",
   "metadata": {},
   "outputs": [],
   "source": [
    "from sklearn.ensemble import RandomForestClassifier"
   ]
  },
  {
   "cell_type": "code",
   "execution_count": 65,
   "id": "5480166f",
   "metadata": {},
   "outputs": [],
   "source": [
    "rfc = RandomForestClassifier(n_estimators = 200)\n",
    "rfc.fit(X_train, y_train)\n",
    "rfc_predictions = rfc.predict(X_val)"
   ]
  },
  {
   "cell_type": "markdown",
   "id": "6f930264",
   "metadata": {},
   "source": [
    "## Model Evaluation"
   ]
  },
  {
   "cell_type": "code",
   "execution_count": 66,
   "id": "3f56e0b2",
   "metadata": {},
   "outputs": [
    {
     "name": "stdout",
     "output_type": "stream",
     "text": [
      "Logistic Regression\n",
      "[[172  20]\n",
      " [  6   4]]\n",
      "\n",
      "\n",
      "              precision    recall  f1-score   support\n",
      "\n",
      "           0       0.97      0.90      0.93       192\n",
      "           1       0.17      0.40      0.24        10\n",
      "\n",
      "    accuracy                           0.87       202\n",
      "   macro avg       0.57      0.65      0.58       202\n",
      "weighted avg       0.93      0.87      0.90       202\n",
      "\n"
     ]
    }
   ],
   "source": [
    "print('Logistic Regression')\n",
    "print(confusion_matrix(log_predictions, y_val))\n",
    "print('\\n')\n",
    "print(classification_report(log_predictions, y_val))"
   ]
  },
  {
   "cell_type": "code",
   "execution_count": 67,
   "id": "e78d0a35",
   "metadata": {},
   "outputs": [
    {
     "name": "stdout",
     "output_type": "stream",
     "text": [
      "KNN\n",
      "[[175  21]\n",
      " [  3   3]]\n",
      "\n",
      "\n",
      "              precision    recall  f1-score   support\n",
      "\n",
      "           0       0.98      0.89      0.94       196\n",
      "           1       0.12      0.50      0.20         6\n",
      "\n",
      "    accuracy                           0.88       202\n",
      "   macro avg       0.55      0.70      0.57       202\n",
      "weighted avg       0.96      0.88      0.91       202\n",
      "\n"
     ]
    }
   ],
   "source": [
    "print('KNN')\n",
    "print(confusion_matrix(knn_predictions, y_val))\n",
    "print('\\n')\n",
    "print(classification_report(knn_predictions, y_val))"
   ]
  },
  {
   "cell_type": "code",
   "execution_count": 68,
   "id": "718e0024",
   "metadata": {},
   "outputs": [
    {
     "name": "stdout",
     "output_type": "stream",
     "text": [
      "SVM\n",
      "[[175  18]\n",
      " [  3   6]]\n",
      "\n",
      "\n",
      "              precision    recall  f1-score   support\n",
      "\n",
      "           0       0.98      0.91      0.94       193\n",
      "           1       0.25      0.67      0.36         9\n",
      "\n",
      "    accuracy                           0.90       202\n",
      "   macro avg       0.62      0.79      0.65       202\n",
      "weighted avg       0.95      0.90      0.92       202\n",
      "\n"
     ]
    }
   ],
   "source": [
    "print('SVM')\n",
    "print(confusion_matrix(svm_predictions, y_val))\n",
    "print('\\n')\n",
    "print(classification_report(svm_predictions, y_val))"
   ]
  },
  {
   "cell_type": "code",
   "execution_count": 69,
   "id": "d1da34f7",
   "metadata": {},
   "outputs": [
    {
     "name": "stdout",
     "output_type": "stream",
     "text": [
      "Decision Tree\n",
      "[[156  13]\n",
      " [ 22  11]]\n",
      "\n",
      "\n",
      "              precision    recall  f1-score   support\n",
      "\n",
      "           0       0.88      0.92      0.90       169\n",
      "           1       0.46      0.33      0.39        33\n",
      "\n",
      "    accuracy                           0.83       202\n",
      "   macro avg       0.67      0.63      0.64       202\n",
      "weighted avg       0.81      0.83      0.82       202\n",
      "\n"
     ]
    }
   ],
   "source": [
    "print('Decision Tree')\n",
    "print(confusion_matrix(dtree_predictions, y_val))\n",
    "print('\\n')\n",
    "print(classification_report(dtree_predictions, y_val))"
   ]
  },
  {
   "cell_type": "code",
   "execution_count": 70,
   "id": "706c94ac",
   "metadata": {},
   "outputs": [
    {
     "name": "stdout",
     "output_type": "stream",
     "text": [
      "Random Forest\n",
      "[[174  20]\n",
      " [  4   4]]\n",
      "\n",
      "\n",
      "              precision    recall  f1-score   support\n",
      "\n",
      "           0       0.98      0.90      0.94       194\n",
      "           1       0.17      0.50      0.25         8\n",
      "\n",
      "    accuracy                           0.88       202\n",
      "   macro avg       0.57      0.70      0.59       202\n",
      "weighted avg       0.95      0.88      0.91       202\n",
      "\n"
     ]
    }
   ],
   "source": [
    "print('Random Forest')\n",
    "print(confusion_matrix(rfc_predictions, y_val))\n",
    "print('\\n')\n",
    "print(classification_report(rfc_predictions, y_val))"
   ]
  },
  {
   "cell_type": "code",
   "execution_count": 71,
   "id": "b9bf4758",
   "metadata": {},
   "outputs": [
    {
     "data": {
      "text/plain": [
       "array([0.05282289, 0.08845063, 0.00803062, 0.0186425 , 0.10324081,\n",
       "       0.08921605, 0.04412658, 0.07483038, 0.04681711, 0.04298358,\n",
       "       0.06361221, 0.02987994, 0.03397959, 0.04579552, 0.04844258,\n",
       "       0.04103313, 0.00107497, 0.08792754, 0.00173339, 0.01056423,\n",
       "       0.00692034, 0.01152962, 0.00235605, 0.00850806, 0.01003458,\n",
       "       0.01223256, 0.0081803 , 0.00644906, 0.00058519])"
      ]
     },
     "execution_count": 71,
     "metadata": {},
     "output_type": "execute_result"
    }
   ],
   "source": [
    "rfc.feature_importances_"
   ]
  },
  {
   "cell_type": "code",
   "execution_count": null,
   "id": "3fc71580",
   "metadata": {},
   "outputs": [],
   "source": []
  },
  {
   "cell_type": "code",
   "execution_count": null,
   "id": "822b9f60",
   "metadata": {},
   "outputs": [],
   "source": []
  }
 ],
 "metadata": {
  "kernelspec": {
   "display_name": "Python 3",
   "language": "python",
   "name": "python3"
  },
  "language_info": {
   "codemirror_mode": {
    "name": "ipython",
    "version": 3
   },
   "file_extension": ".py",
   "mimetype": "text/x-python",
   "name": "python",
   "nbconvert_exporter": "python",
   "pygments_lexer": "ipython3",
   "version": "3.8.8"
  }
 },
 "nbformat": 4,
 "nbformat_minor": 5
}
